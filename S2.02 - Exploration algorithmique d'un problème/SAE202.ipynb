{
 "cells": [
  {
   "cell_type": "markdown",
   "id": "legislative-edgar",
   "metadata": {},
   "source": [
    "<div id=\"haut2page\" style=\"border:3px solid black; padding:3%; font-size:314% ; text-align:center; color:white; background-color:black;\">\n",
    "    SAÉ202<br><br>Exploration algorithmique d'un problème<br>\n",
    "</div>"
   ]
  },
  {
   "cell_type": "markdown",
   "id": "associate-doctrine",
   "metadata": {},
   "source": [
    "<p>L'objectif de cette SAE est d'explorer la représentation de l'ensemble de <a href=\"https://fr.wikipedia.org/wiki/Ensemble_de_Mandelbrot\">Mandelbrot</a>. A cette fin, nous développons le langage des nombres complexes.</p>\n",
    "\n",
    "<p>Votre évaluation est divisée en deux partie : \n",
    "<ul>\n",
    "    <li>Votre travail en travaux pratique : ce TP est évalué en continue. Vous présenterez vos avancés à votre enseignant au fure et à mesure et serez évalué sur vos résultats.</li>\n",
    "    <li>Votre travail en autonomie : ce notebook contient du cours et des exercices qu'il vous appartient de vous approprier et de poser les questions qui s'imposent à vos enseignants. Vous aurez une évaluation sur la partie mathématiques de ce contenu (pas d'évaluation sur le python).</li>\n",
    "</ul>\n",
    "</p>"
   ]
  },
  {
   "cell_type": "markdown",
   "id": "formed-stand",
   "metadata": {},
   "source": [
    "<div style=\"border:3px solid black; padding:3%; font-size:314% ; text-align:center; color:white; background-color:black;\">\n",
    "    Bibliothèque <code>math</code>\n",
    "</div>"
   ]
  },
  {
   "cell_type": "markdown",
   "id": "experimental-conditioning",
   "metadata": {},
   "source": [
    "<p>Pour réaliser des opérations mathématiques nous auront besoin de la bibliothèque éponyme. Executez la case suivante pour charger ses fonctionnalités</p>"
   ]
  },
  {
   "cell_type": "code",
   "execution_count": 182,
   "id": "minute-projector",
   "metadata": {},
   "outputs": [],
   "source": [
    "from math import *"
   ]
  },
  {
   "cell_type": "markdown",
   "id": "1d7c9e1e",
   "metadata": {},
   "source": [
    "<p>Une fois chargée, voici ce que vous pouvez à présent faire:\n",
    "\n",
    "<table>\n",
    "    <tr>\n",
    "        <th>Mathématiques</th>\n",
    "        <th>Python</th>\n",
    "    </tr>\n",
    "    <tr>\n",
    "        <td>$|x|$</td>\n",
    "        <td><code>abs(x)</code></td>\n",
    "    </tr>\n",
    "    <tr>\n",
    "        <td>$\\sqrt{x}$</td>\n",
    "        <td><code>sqrt(x)</code></td>\n",
    "    </tr>\n",
    "    <tr>\n",
    "        <td>$e^x$</td>\n",
    "        <td><code>exp(x)</code></td>\n",
    "    </tr>\n",
    "    <tr>\n",
    "        <td>$ln(x)$</td>\n",
    "        <td><code>log(x)</code></td>\n",
    "    </tr>\n",
    "    <tr>\n",
    "        <td>$log(x)$</td>\n",
    "        <td><code>log10(x)</code></td>\n",
    "    </tr>\n",
    "    <tr>\n",
    "        <td>$cos(x)$</td>\n",
    "        <td><code>cos(x)</code></td>\n",
    "    </tr>\n",
    "    <tr>\n",
    "        <td>$sin(x)$</td>\n",
    "        <td><code>sin(x)</code></td>\n",
    "    </tr>\n",
    "    <tr>\n",
    "        <td>$tan(x)$</td>\n",
    "        <td><code>tan(x)</code></td>\n",
    "    </tr>\n",
    "    <tr>\n",
    "        <td>$Arctan(x)$</td>\n",
    "        <td><code>atan(x)</code></td>\n",
    "    </tr>\n",
    "    <tr>\n",
    "        <td>$\\pi$</td>\n",
    "        <td><code>pi</code></td>\n",
    "    </tr>\n",
    "    <tr>\n",
    "        <td>$e(=e^1)$</td>\n",
    "            <td><code>e</code></td>\n",
    "    </tr>\n",
    "    <tr>\n",
    "        <td>$x^y$</td>\n",
    "        <td><code>pow(x, y)</code></td>\n",
    "    </tr>\n",
    "    <tr>\n",
    "        <td>$n!$</td>\n",
    "        <td><code>factorial(n)</code></td>\n",
    "    </tr>\n",
    "</table>\n",
    "</div>\n",
    "</p>"
   ]
  },
  {
   "cell_type": "markdown",
   "id": "finished-vault",
   "metadata": {},
   "source": [
    "<h3>Exercice</h3>\n",
    "<ol>\n",
    "    <li>Donner une valeur approchée de $\\sqrt{2}$.</li>\n",
    "    <li>Donner une valeur approchée du <a href=\"https://fr.wikipedia.org/wiki/Nombre_d%27or\">nombre d'or</a>.</li>\n",
    "    <li>Donner une valeur approchée de $sin(666)$.</li>\n",
    "    <li>Donner une valeur approchée d'un angle $\\vartheta$ tel que $tan(\\vartheta)=\\sqrt{3}$.</li>\n",
    "    <li>Donner une valeur approchée de $tan\\left(\\dfrac{\\pi}{2}\\right)$.</li>\n",
    "    <li>Donner la valeur de $1983!$.</li>\n",
    "</ol>"
   ]
  },
  {
   "cell_type": "code",
   "execution_count": 96,
   "id": "willing-bracelet",
   "metadata": {},
   "outputs": [
    {
     "ename": "SyntaxError",
     "evalue": "invalid character '≈' (U+2248) (3823263339.py, line 2)",
     "output_type": "error",
     "traceback": [
      "\u001b[1;36m  Cell \u001b[1;32mIn[96], line 2\u001b[1;36m\u001b[0m\n\u001b[1;33m    φ ≈ 1,618033988749895\u001b[0m\n\u001b[1;37m      ^\u001b[0m\n\u001b[1;31mSyntaxError\u001b[0m\u001b[1;31m:\u001b[0m invalid character '≈' (U+2248)\n"
     ]
    }
   ],
   "source": [
    "sqrt(2)\n",
    "φ ≈ 1,618033988749895 \n",
    "sin(666)\n",
    "x = math.atan(math.sqrt(3))\n",
    "result = math.tan(math.pi/2), result = float('inf')\n",
    "factorial(1983)"
   ]
  },
  {
   "cell_type": "markdown",
   "id": "color-broad",
   "metadata": {},
   "source": [
    "<div style=\"border:3px solid black; padding:3%; font-size:314% ; text-align:center; color:white; background-color:black;\">\n",
    "    Graphiques en python\n",
    "</div>"
   ]
  },
  {
   "cell_type": "markdown",
   "id": "wicked-absorption",
   "metadata": {},
   "source": [
    "<h1>Première partie : les listes</h1>\n",
    "<p>Pour pouvoir réaliser des graphiques en python, nous avons besoin de spécifier des listes (de points). La fonction de base est la fonction <code style=\"color:green\">range</code> qui permet très rapidement d'énumeré des entiers (et non des nombres décimaux). Voici les trois utilisations possible : \n",
    "<ol>\n",
    "    <li><code><span style=\"color:green\">range</span>(n)</code> qui donne la liste des entiers de <code>0</code> à <code>n-1</code>. Par exemple <code><span style=\"color:green\">range</span>(10)</code> donnera <code>[0, 1, 2, 3, 4, 5, 6, 7, 8, 9]</code> </li>\n",
    "    <li><code><span style=\"color:green\">range</span>(a, b)</code> qui donne la liste des entiers entre <code>a</code> et <code>b-1</code>. Par exemple <code><span style=\"color:green\">range</span>(3, 10)</code> donnera <code>[3, 4, 5, 6, 7, 8, 9]</code> </li>\n",
    "    <li><code><span style=\"color:green\">range</span>(a, b, p)</code> qui donne la liste des entiers entre <code>a</code> et <code>b-1</code> par bond de <code>p</code>. Par exemple <code><span style=\"color:green\">range</span>(3, 10, 3)</code> donnera <code>[3, 6, 9]</code> </li>\n",
    "</ol>\n",
    "</p>"
   ]
  },
  {
   "cell_type": "markdown",
   "id": "living-study",
   "metadata": {},
   "source": [
    "<h3>\n",
    "    Exercice\n",
    "</h3>    \n",
    "<p>Donner les entiers entre $0$ et $1983$ qui sont dans la table de $23$ (il y en a 87).</p>"
   ]
  },
  {
   "cell_type": "code",
   "execution_count": 16,
   "id": "discrete-front",
   "metadata": {},
   "outputs": [
    {
     "name": "stdout",
     "output_type": "stream",
     "text": [
      "[0, 23, 46, 69, 92, 115, 138, 161, 184, 207, 230, 253, 276, 299, 322, 345, 368, 391, 414, 437, 460, 483, 506, 529, 552, 575, 598, 621, 644, 667, 690, 713, 736, 759, 782, 805, 828, 851, 874, 897, 920, 943, 966, 989, 1012, 1035, 1058, 1081, 1104, 1127, 1150, 1173, 1196, 1219, 1242, 1265, 1288, 1311, 1334, 1357, 1380, 1403, 1426, 1449, 1472, 1495, 1518, 1541, 1564, 1587, 1610, 1633, 1656, 1679, 1702, 1725, 1748, 1771, 1794, 1817, 1840, 1863, 1886, 1909, 1932, 1955, 1978]\n",
      "87\n"
     ]
    }
   ],
   "source": [
    "import random\n",
    "\n",
    "tab = []\n",
    "nombre= 0\n",
    "i = 0 \n",
    "while(i<1983): \n",
    "    if i % 23 == 0 : \n",
    "        tab.append(i)\n",
    "        nombre += 1\n",
    "        \n",
    "    i+=1\n",
    "print(tab)\n",
    "print(nombre)"
   ]
  },
  {
   "cell_type": "markdown",
   "id": "small-consistency",
   "metadata": {},
   "source": [
    "<p>Il est possible de créer des listes de nombres pas forcément entiers de la manière suivante : \n",
    "<blockquote>\n",
    "    <code>y=[<em>fonction de x</em> for x in <em>valeur</em>]</code>\n",
    "</blockquote>\n",
    "Dans ce cas la liste <code>y</code> aura dans chacune de ses cases la valeur de <code>f(x)</code> pour les différentes valeurs prises par <code>x</code>. Voici des exemples :\n",
    "<ol><li>\n",
    "<blockquote>\n",
    "    <code>y=[x**2/10 for x in range(1, 10, 2)]</code>\n",
    "</blockquote>\n",
    "alors \n",
    "<code>y=[0.1, 0.9, 2.5, 4.9, 8.1]</code>\n",
    "</li>\n",
    "    \n",
    "<li>\n",
    "<blockquote>\n",
    "    <code>z=[pow(abs(t), t/2 ) for t in range(-10, 10, 1)]</code>\n",
    "</blockquote>\n",
    "alors \n",
    "<code>z=[1e-05, 5.080526342529086e-05, 0.000244140625, 0.001101937239093957, 0.004629629629629629, 0.01788854381999832, 0.0625, 0.19245008972987526, 0.5, 1.0, 1.0, 1.0, 2.0, 5.196152422706632, 16.0, 55.90169943749474, 216.0, 907.4926996951546, 4096.0, 19683.0]</code>\n",
    "</li>\n",
    "    \n",
    "</ol>\n",
    "</p>"
   ]
  },
  {
   "cell_type": "markdown",
   "id": "polished-importance",
   "metadata": {},
   "source": [
    "<h1>Seconde partie : Les graphiques</h1>\n",
    "<p>Comme pour les fonctions, il faut définir la fenêtre de graphique. Par chance, d'autre s'en sont occupés. Chargeons cette fonctionnalité : exécuter la case suivante.</p>"
   ]
  },
  {
   "cell_type": "code",
   "execution_count": 29,
   "id": "anticipated-patrick",
   "metadata": {},
   "outputs": [],
   "source": [
    "from matplotlib.pyplot import *"
   ]
  },
  {
   "cell_type": "markdown",
   "id": "connected-restoration",
   "metadata": {},
   "source": [
    "<p>Pour faire un graphique rien de plus simple ! On utilise la fonction <code>plot</code> qui prend au moins deux paramètres : \n",
    "<ol>\n",
    "     <li>Le premier est la liste des points d'abscisses</li>\n",
    "     <li>La seconde est la liste des points d'ordonnées</li>\n",
    "</ol>\n",
    "Voici un exemple : \n",
    "</p>"
   ]
  },
  {
   "cell_type": "code",
   "execution_count": 18,
   "id": "infrared-calendar",
   "metadata": {},
   "outputs": [
    {
     "data": {
      "image/png": "[encoded data removed]",
      "text/plain": [
       "<Figure size 640x480 with 1 Axes>"
      ]
     },
     "metadata": {},
     "output_type": "display_data"
    }
   ],
   "source": [
    "X=[x/10 for x in range(-10, 10)] #On calcule les abscisses\n",
    "Y=[x**3 for x in X]#On calcule les ordonnées\n",
    "plot(X, Y)#On fait le dessin\n",
    "show()#On affiche le dessin"
   ]
  },
  {
   "cell_type": "markdown",
   "id": "improving-zoning",
   "metadata": {},
   "source": [
    "<h3>Exercice</h3>\n",
    "<p>Dessiner la fonction exponentielle sur $[-10, 2]$</p>"
   ]
  },
  {
   "cell_type": "code",
   "execution_count": 20,
   "id": "julian-young",
   "metadata": {},
   "outputs": [
    {
     "data": {
      "image/png": "[encoded data removed]",
      "text/plain": [
       "<Figure size 640x480 with 1 Axes>"
      ]
     },
     "metadata": {},
     "output_type": "display_data"
    }
   ],
   "source": [
    "X=[x for x in range(-10, 2)]\n",
    "Y=[exp(x) for x in X]\n",
    "plot(X, Y)\n",
    "show()"
   ]
  },
  {
   "cell_type": "markdown",
   "id": "invalid-skirt",
   "metadata": {},
   "source": [
    "<h3>Quelques fonctionnalités supplémentaires</h3>\n",
    "<ul>\n",
    "    <li><code>grid(<span style=\"color:green\">True</span>)</code> permet d'afficher une grille dans le graphique. Exemple : \n",
    "    <blockquote><code>plot(X, Y)<br>grid(<span style=\"color:green\">True</span>)</code></blockquote>\n",
    "    </li>\n",
    "    <li>On peut modifier la couleur de la courbre en ajoutant un paramètre à la fonction <code>plot</code>, comme dans l'exemple suivant : \n",
    "        <blockquote><code>plot(X, Y, 'k')</code></blockquote>\n",
    "    Les différentes couleurs prédéfinies sont : \n",
    "    <table>\n",
    "        <tr>\n",
    "            <th>Couleur</th>\n",
    "            <th>Code</th>\n",
    "        </tr>\n",
    "        <tr>\n",
    "            <td>Bleu</td>\n",
    "            <td><code>'b'</code></td>\n",
    "        </tr>\n",
    "        <tr>\n",
    "            <td>Vert</td>\n",
    "            <td><code>'g'</code></td>\n",
    "        </tr>\n",
    "        <tr>\n",
    "            <td>Rouge</td>\n",
    "            <td><code>'r'</code></td>\n",
    "        </tr>\n",
    "        <tr>\n",
    "            <td>Cyan</td>\n",
    "            <td><code>'c'</code></td>\n",
    "        </tr>\n",
    "        <tr>\n",
    "            <td>Magenta</td>\n",
    "            <td><code>'m'</code></td>\n",
    "        </tr>\n",
    "        <tr>\n",
    "            <td>Jaune</td>\n",
    "            <td><code>'y'</code></td>\n",
    "        </tr>\n",
    "        <tr>\n",
    "            <td>Noir</td>\n",
    "            <td><code>'k'</code></td>\n",
    "        </tr>\n",
    "        <tr>\n",
    "            <td>Blanc</td>\n",
    "            <td><code>'w'</code></td>\n",
    "        </tr>\n",
    "    </table>\n",
    "    </li>\n",
    "    <li>On peut préciser le style de la ligne parmi les choix suivant : \n",
    "    <table>\n",
    "        <tr>\n",
    "            <th>Style</th>\n",
    "            <th>Code</th>\n",
    "        </tr>\n",
    "        <tr>\n",
    "            <td>Ligne continue (par défaut)</td>\n",
    "            <td><code>'-'</code></td>\n",
    "        </tr>\n",
    "        <tr>\n",
    "            <td>Tiret</td>\n",
    "            <td><code>'--'</code></td>\n",
    "        </tr>\n",
    "        <tr>\n",
    "            <td>Pointillé</td>\n",
    "            <td><code>':'</code></td>\n",
    "        </tr>\n",
    "    </table>\n",
    "        <blockquote><code>plot(X, Y, ':')<br></code></blockquote>\n",
    "        <b>ATTENTION</b> cependant ! Si vous voulez modifier la couleur et le style du trait, il faut le faire en même temps. De sorte que <code>plot(X, Y, ':', 'r')</code> est une erreur. On corrigera par\n",
    "        <blockquote><code>plot(X, Y, 'r:')<br></code></blockquote>\n",
    "        </li>\n",
    "    <li>La fonction <code>plot(X, Y)</code> place par défaut des points (ceux de <code>X</code> et <code>Y</code>) et les relie par des traits (où d'autre style comme nous l'avons vu précédement). On peut changer le style des marques parmi ceux de la liste suivante : \n",
    "    <table>\n",
    "        <tr>\n",
    "            <th>Marqueur</th>\n",
    "            <th>Code</th>\n",
    "        </tr>\n",
    "        <tr>\n",
    "            <td>Point (par défaut)</td>\n",
    "            <td><code>'.'</code></td>\n",
    "        </tr>\n",
    "        <tr>\n",
    "            <td>Cercle</td>\n",
    "            <td><code>'o'</code></td>\n",
    "        </tr>\n",
    "        <tr>\n",
    "            <td>Triangle vers le bas</td>\n",
    "            <td><code>'v'</code></td>\n",
    "        </tr>\n",
    "        <tr>\n",
    "            <td>Triangle vers le haut</td>\n",
    "            <td><code>'^'</code></td>\n",
    "        </tr>\n",
    "        <tr>\n",
    "            <td>Triangle vers la gauche</td>\n",
    "            <td><code>'<'</code></td>\n",
    "        </tr>\n",
    "        <tr>\n",
    "            <td>Triangle vers la droite</td>\n",
    "            <td><code>'>'</code></td>\n",
    "        </tr>\n",
    "        <tr>\n",
    "            <td>Carré</td>\n",
    "            <td><code>'s'</code></td>\n",
    "        </tr>\n",
    "        <tr>\n",
    "            <td>Pentagone</td>\n",
    "            <td><code>'p'</code></td>\n",
    "        </tr>\n",
    "        <tr>\n",
    "            <td>Etoile</td>\n",
    "            <td><code>'*'</code></td>\n",
    "        </tr>\n",
    "        <tr>\n",
    "            <td>Plus</td>\n",
    "            <td><code>'+'</code></td>\n",
    "        </tr>\n",
    "        <tr>\n",
    "            <td>Croix</td>\n",
    "            <td><code>'x'</code></td>\n",
    "        </tr>\n",
    "        <tr>\n",
    "            <td>Losange</td>\n",
    "            <td><code>'d'</code></td>\n",
    "        </tr>\n",
    "    </table>\n",
    "        Il en existe quelque autres. Comme pour les styles de traits, il faut déclarer les marqueurs au même moment.\n",
    "        <blockquote><code>plot(X, Y, 'rd:')<br></code></blockquote>\n",
    "    </li>\n",
    "        <li>On peut préciser l'épaisseur de la ligne en ajoutant à la fonction <code>plot</code> la paramètre <code>linewidth</code>.\n",
    "    <blockquote><code>plot(X, Y, linewidth=5)<br></code></blockquote>\n",
    "    </li>\n",
    "    <li>On peut préciser les bords de la fenêtre de graphique par l'appel des fonction <code>xlim</code> et <code>ylim</code> qui prennent chacun deux paramètres : la plus grande et la plus petite valeur sur les axes respectifs.\n",
    "    <blockquote><code>plot(X, Y)<br>xlim(-1,1)<br>ylim(-10, 10)</code></blockquote>\n",
    "    </li>\n",
    "    <li>On peut donner un titre au graphique par l'appel de la fonction <code>title</code>\n",
    "    <blockquote><code>plot(X, Y)<br>title(\"Graphique de ma fonction\")</code></blockquote>\n",
    "    </li>\n",
    "    <li>On peut déssiner plusieurs fonctions sur un même graphique (par l'appel de plusieurs <code>plot</code> différent). Dans ce cas, pour les disctinguer (en plus des couleurs), on peut légender les différentes courbes. Il y a pour cela deux choses à faire : \n",
    "        <ol>\n",
    "        <li>Donner un titre à la courbe, en ajoutant un <code>label</code> dans <code>plot</code>.</li>\n",
    "        <li>Demander l'affichage de ce <code>label</code>. Pour cela on appel la fonction <code>legend</code> sans paramètre.</li>\n",
    "        </ol>\n",
    "    <blockquote><code>plot(X, Y, label=\"Fonction 1\")<br>plot(X, Z, label=\"Fonction 2\")<br>legend()</code></blockquote>\n",
    "    </li>\n",
    "    <li>On peut aussi labéliser les axes : <code>xlabel</code> pour les abscisses et <code>ylabel</code> pour les ordonnées.\n",
    "    <blockquote><code>plot(X, Y)<br>xlabel(\"Abscisses\")<br>ylabel(\"Ordonnées\")</code></blockquote>\n",
    "    </li>\n",
    "</ul>\n",
    "\n",
    "<p>Voici un exemple qui résume tout <em>(dans les label a été placé du code $\\LaTeX$ qui est un langage d'édition d'équation compris par Jupyter. N'y prétez pas attention, et admirez le résultat)</em>.</p>"
   ]
  },
  {
   "cell_type": "code",
   "execution_count": 21,
   "id": "above-joshua",
   "metadata": {},
   "outputs": [
    {
     "data": {
      "image/png": "[encoded data removed]",
      "text/plain": [
       "<Figure size 640x480 with 1 Axes>"
      ]
     },
     "metadata": {},
     "output_type": "display_data"
    }
   ],
   "source": [
    "#Coordonnes des points\n",
    "X=[x/10 for x in range(10+1)]\n",
    "Y=[sqrt(x) for x in X]\n",
    "Z=[x**2 for x in X]\n",
    "\n",
    "#Dessin\n",
    "plot(X, Y, 'cx-', linewidth=1.5, label=\"$x\\mapsto \\sqrt{x}$\")\n",
    "plot(X, Z, 'm^--', label=\"$x\\mapsto x^2$\")\n",
    "plot(X, X, 'r*:', label=\"$x\\mapsto x$\")\n",
    "\n",
    "#Dimension de la fenêtre\n",
    "xlim(0, 1)\n",
    "ylim(0, 1)\n",
    "\n",
    "#Titre et légende\n",
    "title(\"Comparaison entre $x^2$ et $\\sqrt{x}$ sur $[0; 1]$\")\n",
    "xlabel(\"Abscisses\")\n",
    "ylabel(\"Ordonnées\")\n",
    "legend()\n",
    "\n",
    "#Quadrillage\n",
    "grid(True)\n",
    "\n",
    "#Affichage\n",
    "show()"
   ]
  },
  {
   "cell_type": "markdown",
   "id": "solved-adrian",
   "metadata": {},
   "source": [
    "<h3>Exercices</h3>\n",
    "<p>Déssiner $x\\mapsto e^x$ et $x\\mapsto ln(x)$ entre sur $[-2 ; 4]$ (attention le logarithme n'est pas définie (normalement) sur les réels négatifs). Tracer également la droite $x\\mapsto x$ et les axes du repère</p>"
   ]
  },
  {
   "cell_type": "code",
   "execution_count": 97,
   "id": "welsh-israeli",
   "metadata": {},
   "outputs": [
    {
     "data": {
      "image/png": "[encoded data removed]",
      "text/plain": [
       "<Figure size 640x480 with 1 Axes>"
      ]
     },
     "metadata": {},
     "output_type": "display_data"
    }
   ],
   "source": [
    "#Coordonnes des points\n",
    "X=[x for x in range(-2,10)]\n",
    "W=[w for w in range(1,20)]\n",
    "I=[x for x in X]\n",
    "Y=[exp(x) for x in X]\n",
    "Z=[log(w) for w in W]\n",
    "\n",
    "#Dessin\n",
    "plot(X, Y,'cx-', linewidth=1.5, label=\"$x\\mapsto \\sqrt{x}$\")\n",
    "plot(W, Z,'m^--', label=\"$x\\mapsto x^2$\")\n",
    "plot(X,X,label=\"$x\\mapsto x$\")\n",
    "\n",
    "#Dimension de la fenêtre\n",
    "xlim(-2, 10)\n",
    "ylim(-2, 20)\n",
    "\n",
    "#Titre et légende\n",
    "title(\"Comparaison entre $log10{x}$ et $\\sqrt{x}$\")\n",
    "xlabel(\"Abscisses\")\n",
    "ylabel(\"Ordonnées\")\n",
    "legend()\n",
    "\n",
    "\n",
    "show()"
   ]
  },
  {
   "cell_type": "markdown",
   "id": "vanilla-portsmouth",
   "metadata": {},
   "source": [
    "<h1>Troisème partie : les rectangles</h1>\n",
    "\n",
    "<p>Pour aboutir à notre résultat de la réprésentation de l'ensemble de mandelbrot, nous allons réaliser des dessins en pixelart. Pour cela nous allons utiliser la fonction <code>Rectangle( (x, y), longueur, hauteur )</code> qui prend en paramètre : \n",
    "<ul>\n",
    "    <li><code>(x, y)</code> les coordonnées cartésienne du coin inférieur gauche du rectangle</li>\n",
    "    <li><code>longueur</code> la longueur du rectangle</li>\n",
    "    <li><code>hauteur</code> la hauteur du rectangle</li>\n",
    "</ul>\n",
    "</p>"
   ]
  },
  {
   "cell_type": "code",
   "execution_count": 55,
   "id": "alpha-dancing",
   "metadata": {},
   "outputs": [
    {
     "data": {
      "image/png": "[encoded data removed]",
      "text/plain": [
       "<Figure size 500x500 with 1 Axes>"
      ]
     },
     "metadata": {},
     "output_type": "display_data"
    }
   ],
   "source": [
    "# Crée un graphique vide\n",
    "fig, ax = subplots(figsize=(5, 5))#figsize permet de préciser la taille de la fenetre (largeur, hauteur)\n",
    "\n",
    "# Ajoute un rectangle au graphique\n",
    "rect = Rectangle((0.2, 0.5), 0.4, 0.3, facecolor='red')\n",
    "ax.add_patch(rect)\n",
    "\n",
    "# Affiche le graphique\n",
    "show()"
   ]
  },
  {
   "cell_type": "markdown",
   "id": "further-climate",
   "metadata": {},
   "source": [
    "<p>Voici des variables contenant des coordonnées de carré à dessiner avec la couleur spécifiée par le nom de la variable. La taille de ces carrés sont de 1 (en longueur et hauteur). On pourra prendre <code>xlim(0, 43)</code>, <code>ylim(0, 28)</code> et <code>figsize=(9, 6)</code>.</p>\n",
    "\n",
    "<p>Représentez ce pixelart.</p>"
   ]
  },
  {
   "cell_type": "code",
   "execution_count": 56,
   "id": "golden-hurricane",
   "metadata": {},
   "outputs": [],
   "source": [
    "BLACK = [[32, 9], [16, 11], [15, 13], [29, 17], [14, 5], [23, 21], [19, 3], [17, 4], [11, 8], [23, 8], [32, 25], [24, 3], [33, 24], [26, 11], [15, 12], [14, 23], [11, 25], [12, 12], [12, 17], [27, 21], [12, 24], [33, 19], [26, 12], [33, 21], [34, 22], [25, 13], [31, 14], [34, 23], [8, 25], [22, 8], [20, 7], [11, 18], [15, 5], [34, 24], [25, 4], [18, 20], [18, 12], [25, 20], [26, 13], [20, 3], [8, 26], [26, 14], [20, 21], [33, 20], [23, 6], [23, 3], [28, 12], [34, 21], [18, 13], [31, 12], [10, 20], [30, 16], [13, 15], [30, 15], [13, 23], [33, 23], [16, 14], [9, 21], [13, 6], [21, 21], [10, 23], [26, 21], [10, 25], [8, 23], [32, 18], [27, 11], [35, 25], [28, 22], [26, 4], [31, 7], [17, 21], [16, 4], [10, 22], [21, 11], [18, 4], [29, 23], [9, 22], [12, 14], [22, 5], [31, 24], [17, 14], [34, 25], [17, 11], [8, 24], [10, 21], [24, 20], [25, 12], [9, 23], [21, 9], [19, 9], [12, 11], [12, 7], [16, 21], [16, 12], [11, 10], [28, 13], [22, 11], [30, 6], [35, 26], [15, 22], [28, 5], [11, 9], [20, 8], [29, 5], [17, 12], [19, 20], [34, 26], [10, 24], [21, 5], [22, 21], [22, 3], [21, 8], [27, 14], [31, 17], [30, 23], [23, 7], [33, 25], [9, 25], [12, 13], [20, 6], [31, 13], [9, 26], [35, 23], [33, 22], [13, 16], [27, 4], [22, 9], [21, 3], [35, 24], [17, 13], [24, 9], [9, 24], [14, 17], [32, 8], [10, 19], [32, 10], [31, 11], [27, 12]]\n",
    "RED = [[28, 10], [14, 9], [15, 8], [29, 8], [30, 9], [28, 8], [29, 7], [29, 9], [14, 7], [28, 7], [13, 9], [13, 8], [30, 8], [22, 6], [15, 10], [29, 10], [16, 8], [28, 9], [16, 9], [15, 9], [21, 6], [27, 9], [14, 10], [22, 7], [21, 7], [27, 8], [15, 7], [14, 8]]\n",
    "YELLOW = [[28, 15], [19, 11], [13, 7], [21, 16], [20, 20], [12, 23], [25, 5], [23, 13], [26, 20], [24, 10], [32, 22], [31, 21], [17, 9], [24, 5], [11, 21], [22, 17], [14, 11], [26, 19], [19, 17], [18, 18], [16, 5], [31, 9], [14, 15], [24, 8], [14, 21], [13, 20], [30, 22], [23, 14], [22, 16], [22, 4], [17, 6], [23, 19], [17, 10], [17, 7], [26, 17], [19, 14], [13, 14], [30, 11], [12, 10], [20, 19], [31, 18], [17, 20], [11, 19], [15, 20], [24, 17], [23, 20], [28, 6], [25, 7], [22, 14], [21, 19], [27, 5], [18, 17], [25, 11], [32, 24], [22, 18], [19, 16], [15, 6], [23, 4], [19, 7], [24, 13], [18, 14], [30, 14], [12, 19], [19, 10], [18, 16], [26, 7], [28, 16], [27, 10], [27, 16], [19, 19], [16, 6], [25, 9], [18, 10], [28, 19], [18, 5], [24, 12], [19, 15], [14, 20], [28, 17], [18, 7], [29, 6], [20, 11], [13, 21], [23, 15], [27, 18], [29, 15], [20, 13], [15, 14], [14, 13], [19, 8], [26, 16], [16, 18], [12, 9], [22, 13], [21, 15], [15, 18], [13, 19], [24, 6], [19, 19], [19, 4], [29, 18], [28, 11], [30, 20], [13, 17], [15, 21], [17, 16], [23, 10], [29, 11], [27, 15], [24, 18], [13, 18], [11, 20], [32, 23], [25, 8], [30, 12], [21, 4], [25, 10], [16, 19], [26, 10], [26, 5], [29, 20], [20, 12], [30, 18], [16, 17], [21, 10], [18, 11], [23, 17], [14, 6], [25, 19], [30, 13], [20, 4], [13, 22], [26, 9], [31, 10], [11, 23], [18, 15], [24, 19], [24, 11], [23, 18], [22, 12], [32, 20], [12, 8], [28, 18], [11, 22], [28, 21], [12, 21], [25, 16], [25, 15], [16, 16], [29, 19], [21, 14], [19, 5], [25, 6], [16, 15], [15, 19], [24, 19], [20, 14], [29, 14], [28, 20], [21, 13], [11, 24], [24, 4], [15, 11], [14, 22], [18, 19], [14, 18], [13, 12], [24, 15], [31, 22], [21, 18], [15, 15], [17, 17], [17, 19], [27, 6], [22, 19], [21, 12], [22, 15], [24, 14], [17, 8], [30, 19], [13, 13], [20, 18], [28, 14], [27, 17], [29, 22], [26, 18], [12, 18], [23, 9], [17, 5], [20, 5], [12, 20], [30, 17], [31, 23], [29, 12], [30, 10], [20, 10], [15, 17], [23, 12], [14, 12], [24, 16], [17, 15], [16, 10], [19, 18], [31, 20], [23, 5], [29, 16], [21, 17], [12, 22], [32, 21], [31, 8], [15, 16], [30, 21], [27, 19], [19, 6], [18, 6], [22, 20], [25, 18], [18, 8], [26, 15], [19, 12], [30, 7], [16, 7], [32, 19], [14, 19], [19, 13], [25, 14], [23, 16], [24, 7], [26, 8], [22, 10], [27, 7], [26, 6], [16, 20], [29, 13], [20, 16], [20, 17], [20, 15], [20, 9], [18, 9], [14, 16], [29, 21], [17, 18], [13, 10], [31, 19], [27, 20], [25, 17], [13, 11], [21, 20], [14, 14], [23, 11]]"
   ]
  },
  {
   "cell_type": "code",
   "execution_count": 99,
   "id": "least-warning",
   "metadata": {},
   "outputs": [
    {
     "data": {
      "image/png": "[encoded data removed]",
      "text/plain": [
       "<Figure size 500x500 with 1 Axes>"
      ]
     },
     "metadata": {},
     "output_type": "display_data"
    }
   ],
   "source": [
    "# Crée un graphique vide\n",
    "fig, ax = subplots(figsize=(5, 5))#figsize permet de préciser la taille de la fenetre (largeur, hauteur)\n",
    "xlim(0, 43)\n",
    "ylim(0, 28)\n",
    "figsize=(9, 9)\n",
    "# Ajoute un rectangle au graphique\n",
    "b=0\n",
    "r=0\n",
    "y=0\n",
    "while b < len(BLACK) : \n",
    "    rectBlack = Rectangle((BLACK[b][0], BLACK[b][1]), 1, 1, facecolor='black')\n",
    "    ax.add_patch(rectBlack)\n",
    "    b+=1\n",
    "\n",
    "while r<len(RED) : \n",
    "    rectRed = Rectangle((RED[r][0], RED[r][1]), 1, 1, facecolor='red')\n",
    "    r+=1\n",
    "    ax.add_patch(rectRed)\n",
    "while y<len(YELLOW) : \n",
    "    rectYell = Rectangle((YELLOW[y][0], YELLOW[y][1]), 1, 1, facecolor='yellow')\n",
    "    y+=1\n",
    "    ax.add_patch(rectYell)\n",
    "\n",
    "# Affiche le graphique\n",
    "show()"
   ]
  },
  {
   "cell_type": "markdown",
   "id": "isolated-champagne",
   "metadata": {},
   "source": [
    "<div style=\"border:3px solid black; padding:3%; font-size:314% ; text-align:center; color:white; background-color:black;\">\n",
    "    Les nombres complexes\n",
    "</div>"
   ]
  },
  {
   "cell_type": "markdown",
   "id": "unsigned-render",
   "metadata": {},
   "source": [
    "<h1>Première partie : représentation cartésienne.</h1>"
   ]
  },
  {
   "cell_type": "markdown",
   "id": "boxed-forge",
   "metadata": {},
   "source": [
    "<p>On note $i$ une solution de l'équation $x^2+1=0$. C'est un nombre <em>imaginaire pure</em>. De manière générale un <b> nombre complexe est la donnée de $z=x+iy$</b> où $x$ est appelé la partie réelle et $y$ la partie imaginaire. Informatiquement, un nombre complexe est la donnée d'une liste à deux entrées. La première coordonnée est la partie réel et la seconde la partie imaginaire.</p>\n",
    "\n",
    "<p>Voici des exemples</p>"
   ]
  },
  {
   "cell_type": "code",
   "execution_count": 59,
   "id": "prepared-hardware",
   "metadata": {},
   "outputs": [],
   "source": [
    "Z1=[sqrt(3)/2, -1/2] #Représente le nombre complexe z1=sqrt(3)/2+i(-1/2)\n",
    "Z2=[1/2, sqrt(3)/2] #Représente le nombre complexe z2=1/2+isqrt(3)/2\n",
    "Z3=[0, 1] #Représente le nombre complexe i"
   ]
  },
  {
   "cell_type": "markdown",
   "id": "stable-strengthening",
   "metadata": {},
   "source": [
    "<p>Écrire la fonction <code>partieReelle_car(z)</code> qui prend en paramètre un nombre complexe (une liste à deux entrées) et renvoie la partie réelles (un nombre réel).</p>"
   ]
  },
  {
   "cell_type": "code",
   "execution_count": 61,
   "id": "forbidden-magnet",
   "metadata": {},
   "outputs": [],
   "source": [
    "def partieReelle_car(z) : \n",
    "    return z[0]"
   ]
  },
  {
   "cell_type": "code",
   "execution_count": 62,
   "id": "hazardous-moral",
   "metadata": {},
   "outputs": [
    {
     "name": "stdout",
     "output_type": "stream",
     "text": [
      "0.8660254037844386\n",
      "0.5\n",
      "0\n"
     ]
    }
   ],
   "source": [
    "#Tests\n",
    "print(partieReelle_car(Z1))#0.8660254037844386\n",
    "print(partieReelle_car(Z2))#0.5\n",
    "print(partieReelle_car(Z3))#0"
   ]
  },
  {
   "cell_type": "markdown",
   "id": "distinguished-motel",
   "metadata": {},
   "source": [
    "<p>De même, écrire la fonction <code>partieImaginaire_car(z)</code> qui renvoie la partie imaginaire</p>"
   ]
  },
  {
   "cell_type": "code",
   "execution_count": 63,
   "id": "mineral-helicopter",
   "metadata": {},
   "outputs": [],
   "source": [
    "def partieImaginaire_car(z) : \n",
    "    return z[1]"
   ]
  },
  {
   "cell_type": "code",
   "execution_count": 64,
   "id": "increasing-stevens",
   "metadata": {},
   "outputs": [
    {
     "name": "stdout",
     "output_type": "stream",
     "text": [
      "-0.5\n",
      "0.8660254037844386\n",
      "1\n"
     ]
    }
   ],
   "source": [
    "#Tests\n",
    "print(partieImaginaire_car(Z1))#-0.5\n",
    "print(partieImaginaire_car(Z2))#0.8660254037844386\n",
    "print(partieImaginaire_car(Z3))#1"
   ]
  },
  {
   "cell_type": "markdown",
   "id": "short-probability",
   "metadata": {},
   "source": [
    "<p>La procédure suivante, prend en paramètre un nombre complexe et affiche ce nombre. Le paramètre optionnel <code>precision</code> permet de spécifier le nombre de chiffre après la virgule qui doivent apparaitre.</p>"
   ]
  },
  {
   "cell_type": "code",
   "execution_count": 65,
   "id": "combined-individual",
   "metadata": {},
   "outputs": [],
   "source": [
    "def printZ_car(z, precision=2) : \n",
    "    x=round(partieReelle_car(z), precision)\n",
    "    y=round(partieImaginaire_car(z), precision)\n",
    "    \n",
    "    txt=\"\"\n",
    "    if(x==0 and y==0) : txt=0\n",
    "    \n",
    "    if(x!=0) : txt+=str(x)\n",
    "    if(y>0 and x!=0) : txt+='+'\n",
    "    if(abs(y)!=1 and y!=0) : txt+=str(y)\n",
    "    if(y==-1) : txt+='-'\n",
    "    if(y!=0) : txt+='i'\n",
    "        \n",
    "    print(txt)"
   ]
  },
  {
   "cell_type": "code",
   "execution_count": 66,
   "id": "toxic-battle",
   "metadata": {},
   "outputs": [
    {
     "name": "stdout",
     "output_type": "stream",
     "text": [
      "0.87-0.5i\n",
      "0.5+0.87i\n",
      "i\n"
     ]
    }
   ],
   "source": [
    "#Tests\n",
    "printZ_car(Z1)#0.87-0.5i\n",
    "printZ_car(Z2)#0.5+0.87i\n",
    "printZ_car(Z3)#i"
   ]
  },
  {
   "cell_type": "markdown",
   "id": "royal-controversy",
   "metadata": {},
   "source": [
    "<h3>Somme algébrique de nombre complexe</h3>\n",
    "\n",
    "<p>Si $z_1=x_1+iy_1$ et $z_2=x_2+iy_2$ sont deux nombres complexes alors on définit l'addition $$z_1+z_2=(x_1+x_2)+i(y_1+y2)$$ En définitive, on additionne les nombres complexes comme des nombres réels usuelles en considérant le nombre complexe $i$ comme une variable.</p>\n",
    "\n",
    "<p>Écrire la fonction <code>addZ_car(z1, z2)</code> qui renvoie le nombre complexe <code>z1+z2</code></p>"
   ]
  },
  {
   "cell_type": "code",
   "execution_count": 67,
   "id": "congressional-profile",
   "metadata": {},
   "outputs": [],
   "source": [
    "def addZ_car(z1, z2) : \n",
    "    return [partieReelle_car(z1)+partieReelle_car(z2), partieImaginaire_car(z1)+partieImaginaire_car(z2)]"
   ]
  },
  {
   "cell_type": "code",
   "execution_count": 68,
   "id": "numerical-collector",
   "metadata": {},
   "outputs": [
    {
     "name": "stdout",
     "output_type": "stream",
     "text": [
      "1.37+0.37i\n",
      "0.87+0.5i\n",
      "0.5+1.87i\n"
     ]
    }
   ],
   "source": [
    "#Tests\n",
    "printZ_car(addZ_car(Z1, Z2))#1.37+0.37i\n",
    "printZ_car(addZ_car(Z1, Z3))#0.87+05i\n",
    "printZ_car(addZ_car(Z2, Z3))#0.5+1.87i"
   ]
  },
  {
   "cell_type": "markdown",
   "id": "widespread-cooler",
   "metadata": {},
   "source": [
    "<p>Écrire la fonction <code>oppZ_car(z)</code> qui renvoie l'opposé du nombre complexe <code>z</code>.</p>"
   ]
  },
  {
   "cell_type": "code",
   "execution_count": 71,
   "id": "optional-gibraltar",
   "metadata": {},
   "outputs": [],
   "source": [
    "def oppZ_car(z) : \n",
    "    return [-partieReelle_car(z), -partieImaginaire_car(z)]"
   ]
  },
  {
   "cell_type": "code",
   "execution_count": 72,
   "id": "educational-africa",
   "metadata": {},
   "outputs": [
    {
     "name": "stdout",
     "output_type": "stream",
     "text": [
      "-0.87+0.5i\n",
      "-0.5-0.87i\n",
      "-i\n"
     ]
    }
   ],
   "source": [
    "#Tests\n",
    "printZ_car(oppZ_car(Z1))#-0.87+0.5i\n",
    "printZ_car(oppZ_car(Z2))#-0.5-0.87i\n",
    "printZ_car(oppZ_car(Z3))#-i"
   ]
  },
  {
   "cell_type": "markdown",
   "id": "common-construction",
   "metadata": {},
   "source": [
    "<p>En déduire la fonction <code>sousZ_car(z1, z2)</code> qui renvoie le nombre complexe <code>z1-z2</code>.</p>"
   ]
  },
  {
   "cell_type": "code",
   "execution_count": 76,
   "id": "green-serbia",
   "metadata": {},
   "outputs": [],
   "source": [
    "def sousZ_car(z1, z2) : \n",
    "    return [partieReelle_car(z1)-partieReelle_car(z2), partieImaginaire_car(z1)-partieImaginaire_car(z2)]"
   ]
  },
  {
   "cell_type": "code",
   "execution_count": 77,
   "id": "infectious-bridge",
   "metadata": {},
   "outputs": [
    {
     "name": "stdout",
     "output_type": "stream",
     "text": [
      "0.37-1.37i\n",
      "0.87-1.5i\n",
      "0.5-0.13i\n"
     ]
    }
   ],
   "source": [
    "#tests\n",
    "printZ_car(sousZ_car(Z1, Z2))#0.37-1.37i\n",
    "printZ_car(sousZ_car(Z1, Z3))#0.87-1.5i\n",
    "printZ_car(sousZ_car(Z2, Z3))#0.5-0.13i"
   ]
  },
  {
   "cell_type": "markdown",
   "id": "norman-course",
   "metadata": {},
   "source": [
    "<h3>Multiplication de nombre complexe</h3>\n",
    "\n",
    "<p>Pour réaliser le produit de nombre complexe, on réalise le développement classique des nombres réels en prennant en compte que $i^2=-1$.</p>\n",
    "\n",
    "<p>Écrire la fonction <code>multZ_car(z1, z2)</code> qui renvoie le produit <code>z1.z2</code></p>"
   ]
  },
  {
   "cell_type": "code",
   "execution_count": 80,
   "id": "loving-mystery",
   "metadata": {},
   "outputs": [],
   "source": [
    "def multZ_car(z1, z2) : \n",
    "    partReelle = partieReelle_car(z1)*partieReelle_car(z2)\n",
    "    partImg = partieImaginaire_car(z1)*partieImaginaire_car(z2)\n",
    "    return [partReelle-partImg, partieReelle_car(z1)*partieImaginaire_car(z2) + partieReelle_car(z2)*partieImaginaire_car(z1)]"
   ]
  },
  {
   "cell_type": "code",
   "execution_count": 81,
   "id": "retained-organization",
   "metadata": {},
   "outputs": [
    {
     "name": "stdout",
     "output_type": "stream",
     "text": [
      "0.87+0.5i\n",
      "0.5+0.87i\n",
      "-0.87+0.5i\n"
     ]
    }
   ],
   "source": [
    "#Tests\n",
    "printZ_car(multZ_car(Z1, Z2))#0.87+0.5i\n",
    "printZ_car(multZ_car(Z1, Z3))#0.5+0.87i\n",
    "printZ_car(multZ_car(Z2, Z3))#-0.87+0.5i"
   ]
  },
  {
   "cell_type": "markdown",
   "id": "attached-formula",
   "metadata": {},
   "source": [
    "<h3>Inverse d'un nombre complexe</h3>\n",
    "\n",
    "<p>Pour inverser un nombre complexe, on utilise la formule de l'expression conjugué. Précisément :\n",
    "$$\\dfrac{1}{x+iy}=\\dfrac{x}{x^2+y^2}-i\\dfrac{y}{x^2+y^2}$$\n",
    "</p>\n",
    "\n",
    "<p>Écrire la fonction <code>invZ_car(z)</code> qui renvoie l'inverse du nombre complexe <code>z</code>.</p>"
   ]
  },
  {
   "cell_type": "code",
   "execution_count": 89,
   "id": "express-accessory",
   "metadata": {},
   "outputs": [],
   "source": [
    "def invZ_car(z) : \n",
    "    denom = (partieReelle_car(z)**2 +partieImaginaire_car(z)**2)\n",
    "    return [partieReelle_car(z)/denom,-partieImaginaire_car(z)/denom]"
   ]
  },
  {
   "cell_type": "code",
   "execution_count": 90,
   "id": "japanese-incentive",
   "metadata": {},
   "outputs": [
    {
     "name": "stdout",
     "output_type": "stream",
     "text": [
      "0.87+0.5i\n",
      "0.5-0.87i\n",
      "-i\n"
     ]
    }
   ],
   "source": [
    "#Tests\n",
    "printZ_car(invZ_car(Z1))#0.87+0.5i\n",
    "printZ_car(invZ_car(Z2))#0.5-0.87i\n",
    "printZ_car(invZ_car(Z3))#-i"
   ]
  },
  {
   "cell_type": "markdown",
   "id": "minor-japanese",
   "metadata": {},
   "source": [
    "<p>En déduire le code pour renvoyer le quotient de deux nombres complexe $\\dfrac{z_1}{z_2}$.</p>"
   ]
  },
  {
   "cell_type": "code",
   "execution_count": null,
   "id": "afccf6e6",
   "metadata": {},
   "outputs": [],
   "source": [
    "def conjugue_car(z) :\n",
    "    return [partieReelle_car(z), -partieImaginaire_car(z)]"
   ]
  },
  {
   "cell_type": "code",
   "execution_count": 94,
   "id": "spoken-sentence",
   "metadata": {},
   "outputs": [],
   "source": [
    "def divZ_car(z1, z2) :\n",
    "    denom = partieReelle_car(z2)**2 + partieImaginaire_car(z2)**2\n",
    "    Reel2 = partieReelle_car(z1)*partieReelle_car(z2)\n",
    "    Img2 = partieImaginaire_car(z1)*partieImaginaire_car(z2)\n",
    "    Re2_Im1 = partieReelle_car(z2) * partieImaginaire_car(z1)\n",
    "    Re1_Im2 = partieReelle_car(z1) * partieImaginaire_car(z2)\n",
    "    return [(Reel2+Img2)/denom, -(Re1_Im2-Re2_Im1)/denom]"
   ]
  },
  {
   "cell_type": "code",
   "execution_count": 95,
   "id": "outside-witness",
   "metadata": {},
   "outputs": [
    {
     "name": "stdout",
     "output_type": "stream",
     "text": [
      "-i\n",
      "-0.5-0.87i\n",
      "0.87-0.5i\n"
     ]
    }
   ],
   "source": [
    "#Tests\n",
    "printZ_car(divZ_car(Z1, Z2))#-i\n",
    "printZ_car(divZ_car(Z1, Z3))#-0.5-0.87i\n",
    "printZ_car(divZ_car(Z2, Z3))#0.87-0.5i"
   ]
  },
  {
   "cell_type": "markdown",
   "id": "systematic-spice",
   "metadata": {},
   "source": [
    "<h1>Seconde partie : représentation polaire</h1>\n",
    "\n",
    "<p>Une autre manière de représenter un nombre complexe est par son expression polaire. <br>L'écriture de $z=x+iy$, s'écrit également sous la forme $r\\left(cos(\\vartheta)+isin(\\vartheta)\\right)$ également noté $re^{i\\vartheta}$. \n",
    "    <ul>\n",
    "    <li>Le nombre $r$ est appellé le <b>module</b>. C'est la distance entre le nombre $z$ et l'origine</li>\n",
    "    <li>Le nombre $\\vartheta$ est appellé l'<b>argument</b>. C'est l'angle entre l'axe des abscisse le vecrteur $\\overrightarrow{OA}$ où $A$ représente le point du plan de coordonnée $(x, y)$.</li>\n",
    "    </ul>\n",
    "    <img src=\"https://www.ataraxy.info/COEUR/Modules/SAE202/Affixe.png\" alt=\"Réprésentation du module et de l'argument\">\n",
    "</p>\n",
    "<p>Dans la suite, la représentation polaire d'un nombre complexe est la donnée d'un tableau à deux entrées ou la première représente le module et le second l'argument.</p>\n",
    "\n",
    "<p>Voici des exemples</p>"
   ]
  },
  {
   "cell_type": "code",
   "execution_count": 111,
   "id": "satisfactory-weekend",
   "metadata": {},
   "outputs": [
    {
     "name": "stdout",
     "output_type": "stream",
     "text": [
      "-6229.77823206856\n"
     ]
    }
   ],
   "source": [
    "T1=[1, -1983*pi/6]\n",
    "T2=[2, pi/3]\n",
    "T3=[3, pi]\n",
    "print(-1983*pi)"
   ]
  },
  {
   "cell_type": "markdown",
   "id": "pressed-power",
   "metadata": {},
   "source": [
    "<p>Écrire la fonction <code>module_pol(z)</code> qui prend en paramètre un nombre complexe sous sa forme polaire et renvoie son module.</p>"
   ]
  },
  {
   "cell_type": "code",
   "execution_count": 101,
   "id": "manual-hostel",
   "metadata": {},
   "outputs": [],
   "source": [
    "def module_pol(z) : \n",
    "    return z[0]"
   ]
  },
  {
   "cell_type": "code",
   "execution_count": 102,
   "id": "floral-jungle",
   "metadata": {},
   "outputs": [
    {
     "name": "stdout",
     "output_type": "stream",
     "text": [
      "1\n",
      "2\n",
      "3\n"
     ]
    }
   ],
   "source": [
    "#Tests\n",
    "print(module_pol(T1))#1\n",
    "print(module_pol(T2))#2\n",
    "print(module_pol(T3))#3"
   ]
  },
  {
   "cell_type": "markdown",
   "id": "adjusted-hormone",
   "metadata": {},
   "source": [
    "<p>De la même manière, écrire la fonction <code>argument_pol(z)</code>. On prendra soin de renvoyer un argument $\\vartheta\\in ]-\\pi ; \\pi]$.</p>"
   ]
  },
  {
   "cell_type": "code",
   "execution_count": 158,
   "id": "exempt-design",
   "metadata": {},
   "outputs": [],
   "source": [
    "def argument_pol(z) : \n",
    "    return (z[1]-pi) % (-2*pi)+pi"
   ]
  },
  {
   "cell_type": "code",
   "execution_count": 159,
   "id": "hollywood-potato",
   "metadata": {},
   "outputs": [
    {
     "name": "stdout",
     "output_type": "stream",
     "text": [
      "-1.5707963267950582\n",
      "1.0471975511965974\n",
      "3.141592653589793\n"
     ]
    }
   ],
   "source": [
    "#Tests\n",
    "print(argument_pol(T1))#-1.57\n",
    "print(argument_pol(T2))#1.04\n",
    "print(argument_pol(T3))#3.14"
   ]
  },
  {
   "cell_type": "markdown",
   "id": "grand-timer",
   "metadata": {},
   "source": [
    "<p>La fonction suivante affiche l'expression polaire d'un nombre complexe.</p>"
   ]
  },
  {
   "cell_type": "code",
   "execution_count": 160,
   "id": "mathematical-coaching",
   "metadata": {},
   "outputs": [],
   "source": [
    "def printZ_pol(z, precision=2) : \n",
    "    r=round(module_pol(z), precision)\n",
    "    t=argument_pol(z)/pi\n",
    "    \n",
    "    s=\"\"\n",
    "    if(t<0) : s=\"-\"\n",
    "    \n",
    "    t=abs(t)\n",
    "        \n",
    "    tt=str(round(t, precision))+\"π\"\n",
    "    if(abs(t-1/2)<10**(-precision**2)) : tt=\"π/2\"\n",
    "    if(abs(t-1/3)<10**(-precision**2)) : tt=\"π/3\"\n",
    "    if(abs(t-2/3)<10**(-precision**2)) : tt=\"2π/3\"\n",
    "    if(abs(t-1/4)<10**(-precision**2)) : tt=\"π/4\"\n",
    "    if(abs(t-3/4)<10**(-precision**2)) : tt=\"3π/4\"\n",
    "    if(abs(t-1/6)<10**(-precision**2)) : tt=\"π/6\"\n",
    "    if(abs(t-5/6)<10**(-precision**2)) : tt=\"5π/6\"\n",
    "    if(abs(t-1)<10**(-precision**2)) : tt=\"π\"\n",
    "    if(abs(t)<10**(-precision**2)) : tt=\"0π\"\n",
    "    \n",
    "    if(r==0) : return 0\n",
    "    \n",
    "    txt=\"\"\n",
    "    if(r!=1) : txt+=str(r)\n",
    "    if(t!=0) : txt+=\"e^{\"+s+\"i \"+tt+\"}\"\n",
    "    \n",
    "    print(txt)"
   ]
  },
  {
   "cell_type": "code",
   "execution_count": 179,
   "id": "painted-reliance",
   "metadata": {},
   "outputs": [
    {
     "name": "stdout",
     "output_type": "stream",
     "text": [
      "e^{-i π/2}\n",
      "2e^{i π/3}\n",
      "3e^{i π}\n"
     ]
    }
   ],
   "source": [
    "#Tests\n",
    "printZ_pol(T1)#e^{-i π/2}\n",
    "printZ_pol(T2)#2e^{i π/3}\n",
    "printZ_pol(T3)#3e^{i π}"
   ]
  },
  {
   "cell_type": "markdown",
   "id": "combined-championship",
   "metadata": {},
   "source": [
    "<h3>Conversion des coordonnées cartésienne aux coordonnées polaire.</h3>"
   ]
  },
  {
   "cell_type": "markdown",
   "id": "raised-oxide",
   "metadata": {},
   "source": [
    "<p>Si $z=x+iy$ est l'expression cartésienne d'un nombre complexe alors $r$ son module vaut $\\sqrt{x^2+y^2}$.</p>\n",
    "<p>Écrire la fonction <code>module_car(z)</code> qui renvoie le module de l'expression cartésienne du nombre complexe <code>z</code></p>"
   ]
  },
  {
   "cell_type": "code",
   "execution_count": 166,
   "id": "logical-crowd",
   "metadata": {},
   "outputs": [],
   "source": [
    "def module_car(z) : \n",
    "    carre = partieReelle_car(z)**2 + partieImaginaire_car(z)**2\n",
    "    return round(sqrt(carre))"
   ]
  },
  {
   "cell_type": "code",
   "execution_count": 167,
   "id": "divine-wheel",
   "metadata": {},
   "outputs": [
    {
     "name": "stdout",
     "output_type": "stream",
     "text": [
      "1\n",
      "1\n",
      "1\n"
     ]
    }
   ],
   "source": [
    "#Tests\n",
    "print(module_car(Z1))#1\n",
    "print(module_car(Z2))#1\n",
    "print(module_car(Z3))#1"
   ]
  },
  {
   "cell_type": "markdown",
   "id": "dominant-franchise",
   "metadata": {},
   "source": [
    "<p>Si $z=x+iy$ est un nombre complexe non imaginaire pure, alors $\\vartheta$ son argument vérifie $tan(\\vartheta)=\\dfrac{y}{x}$.</p>\n",
    "<p>Écrire la fonction <code>argument_car(z)</code> qui renvoie un argument de l'expression cartésienne du nombre complexe <code>z</code>. On prendra gare aux exceptions.</p>"
   ]
  },
  {
   "cell_type": "code",
   "execution_count": 188,
   "id": "buried-father",
   "metadata": {},
   "outputs": [],
   "source": [
    "def argument_car(z) :\n",
    "    if partieReelle_car(z) != 0:\n",
    "        return atan(partieImaginaire_car(z)/partieReelle_car(z))\n",
    "    else : \n",
    "        return atan2(partieImaginaire_car(z),partieReelle_car(z))"
   ]
  },
  {
   "cell_type": "code",
   "execution_count": 189,
   "id": "random-calculator",
   "metadata": {},
   "outputs": [
    {
     "name": "stdout",
     "output_type": "stream",
     "text": [
      "-0.5235987755982989\n",
      "1.0471975511965976\n",
      "1.5707963267948966\n"
     ]
    }
   ],
   "source": [
    "#Tests\n",
    "print(argument_car(Z1))#-0.52\n",
    "print(argument_car(Z2))#1.04\n",
    "print(argument_car(Z3))#1.57"
   ]
  },
  {
   "cell_type": "markdown",
   "id": "furnished-ozone",
   "metadata": {},
   "source": [
    "<p>Écrire la fonction <code>conversion_car_pol(z)</code> qui renvoie l'expression polaire de l'expression cartésienne du nombre complexe <code>z</code>.</p>"
   ]
  },
  {
   "cell_type": "code",
   "execution_count": 190,
   "id": "experienced-fruit",
   "metadata": {},
   "outputs": [],
   "source": [
    "def conversion_car_pol(z) : \n",
    "    return [module_car(z),argument_car(z) ]"
   ]
  },
  {
   "cell_type": "code",
   "execution_count": 191,
   "id": "novel-allah",
   "metadata": {},
   "outputs": [
    {
     "name": "stdout",
     "output_type": "stream",
     "text": [
      "0.87-0.5i\n",
      "=e^{-i π/6}\n",
      "0.5+0.87i\n",
      "=e^{i π/3}\n",
      "i\n",
      "=e^{i π/2}\n"
     ]
    }
   ],
   "source": [
    "#Tests\n",
    "for Z in [Z1, Z2, Z3] : \n",
    "    printZ_car(Z)\n",
    "    print(\"=\", end='')\n",
    "    printZ_pol(conversion_car_pol(Z))\n",
    "#Résultats : \n",
    "#0.87-0.5i=e^{-i π/6}\n",
    "#0.5+0.87i=e^{i π/3}\n",
    "#i=e^{i π/2}"
   ]
  },
  {
   "cell_type": "markdown",
   "id": "talented-origin",
   "metadata": {},
   "source": [
    "<p>Écrire la fonction de conversion inverse.</p>"
   ]
  },
  {
   "cell_type": "code",
   "execution_count": 194,
   "id": "italic-knitting",
   "metadata": {},
   "outputs": [],
   "source": [
    "def conversion_pol_car(z) : \n",
    "    return [z[0]*cos(z[1]), z[0]*sin(z[1])]"
   ]
  },
  {
   "cell_type": "code",
   "execution_count": 193,
   "id": "relevant-chemical",
   "metadata": {},
   "outputs": [
    {
     "name": "stdout",
     "output_type": "stream",
     "text": [
      "e^{-i π/2}\n",
      "=-i\n",
      "2e^{i π/3}\n",
      "=1.0+1.73i\n",
      "3e^{i π}\n",
      "=-3.0\n"
     ]
    }
   ],
   "source": [
    "#Tests\n",
    "for T in [T1, T2, T3] : \n",
    "    printZ_pol(T)\n",
    "    print(\"=\", end='')\n",
    "    printZ_car(conversion_pol_car(T))\n",
    "#Résultats : \n",
    "#e^{-i π/2}=-i\n",
    "#2e^{i π/3}=1.0+1.73i\n",
    "#3e^{i π}=-3.0"
   ]
  },
  {
   "cell_type": "markdown",
   "id": "selective-accent",
   "metadata": {},
   "source": [
    "<h3>Opérations algébriques sur la forme polaire des nombres complexes</h3>"
   ]
  },
  {
   "cell_type": "markdown",
   "id": "interested-feedback",
   "metadata": {},
   "source": [
    "<p>En utilisant (éventuellement) les fonctions de conversion et les fonctions réalisant les opérations algébriques sur les représentations cartésiennes des nombres complexes, donnez le code des fonctions suvantes :\n",
    "    <ul>\n",
    "        <li><code>addZ_pol(t1, t2)</code> qui renvoie l'expression polaire de la somme de deux nombres complexes eux aussi donnés sous forme polaire.</li>\n",
    "        <li><code>oppZ_pol(t)</code> qui renvoie l'expression polaire de l'opposé d'un nombre complexe lui aussi donné sous forme polaire.</li>\n",
    "        <li><code>sousZ_pol(t1, t2)</code> qui renvoie l'expression polaire de la différence de deux nombres complexes eux aussi donnés sous forme polaire.</li>\n",
    "        <li><code>multZ_car(t1, t2)</code> qui renvoie l'expression polaire du produit de deux nombres complexes eux aussi donnés sous forme polaire.</li>\n",
    "        <li><code>invZ_pol(t)</code> qui renvoie l'expression polaire de l'inverse d'un nombre complexe lui aussi donné sous forme polaire.</li>  \n",
    "        <li><code>divZ_car(t1, t2)</code> qui renvoie l'expression polaire du produit de deux nombres complexes eux aussi donnés sous forme polaire.</li>\n",
    "    </ul>\n",
    "</p>"
   ]
  },
  {
   "cell_type": "code",
   "execution_count": null,
   "id": "blank-palestine",
   "metadata": {},
   "outputs": [],
   "source": [
    "def addZ_pol(t1, t2) : \n",
    "    return [0, 0]"
   ]
  },
  {
   "cell_type": "code",
   "execution_count": null,
   "id": "abandoned-buyer",
   "metadata": {},
   "outputs": [],
   "source": [
    "#Tests\n",
    "printZ_pol(addZ_pol(T1, T2))#1.24e^{i 0.2π}\n",
    "printZ_pol(addZ_pol(T1, T3))#3.16e^{-i 0.9π}\n",
    "printZ_pol(addZ_pol(T2, T3))#2.65e^{i 0.77π}"
   ]
  },
  {
   "cell_type": "code",
   "execution_count": null,
   "id": "suburban-summit",
   "metadata": {},
   "outputs": [],
   "source": [
    "def oppZ_pol(t) : \n",
    "    return [0, 0]"
   ]
  },
  {
   "cell_type": "code",
   "execution_count": null,
   "id": "every-router",
   "metadata": {},
   "outputs": [],
   "source": [
    "#Tests\n",
    "printZ_pol(oppZ_pol(T1))#e^{i π/2}\n",
    "printZ_pol(oppZ_pol(T2))#2.0e^{-i 2π/3}\n",
    "printZ_pol(oppZ_pol(T3))#3.0"
   ]
  },
  {
   "cell_type": "code",
   "execution_count": null,
   "id": "honest-commander",
   "metadata": {},
   "outputs": [],
   "source": [
    "def sousZ_pol(t1, t2) : \n",
    "    return [0, 0]"
   ]
  },
  {
   "cell_type": "code",
   "execution_count": null,
   "id": "respiratory-charter",
   "metadata": {},
   "outputs": [],
   "source": [
    "#Tests\n",
    "printZ_pol(sousZ_pol(T1, T2))#2.91e^{-i 0.61π}\n",
    "printZ_pol(sousZ_pol(T1, T3))#3.16e^{-i 0.1π}\n",
    "printZ_pol(sousZ_pol(T2, T3))#4.36e^{i 0.13π}"
   ]
  },
  {
   "cell_type": "code",
   "execution_count": null,
   "id": "skilled-metabolism",
   "metadata": {},
   "outputs": [],
   "source": [
    "def multZ_pol(t1, t2) : \n",
    "    return [0, 0]"
   ]
  },
  {
   "cell_type": "code",
   "execution_count": null,
   "id": "embedded-myrtle",
   "metadata": {},
   "outputs": [],
   "source": [
    "#Tests\n",
    "printZ_pol(multZ_pol(T1, T2))#2e^{-i π/6}\n",
    "printZ_pol(multZ_pol(T1, T3))#3e^{i π/2}\n",
    "printZ_pol(multZ_pol(T2, T3))#6e^{-i 2π/3}"
   ]
  },
  {
   "cell_type": "code",
   "execution_count": null,
   "id": "turned-kenya",
   "metadata": {},
   "outputs": [],
   "source": [
    "def invZ_pol(t) : \n",
    "    return [0, 0]"
   ]
  },
  {
   "cell_type": "code",
   "execution_count": null,
   "id": "precious-partner",
   "metadata": {},
   "outputs": [],
   "source": [
    "#Tests\n",
    "printZ_pol(invZ_pol(T1))#e^{i π/2}\n",
    "printZ_pol(invZ_pol(T2))#0.5e^{-i π/3}\n",
    "printZ_pol(invZ_pol(T3))#0.33e^{i π}"
   ]
  },
  {
   "cell_type": "code",
   "execution_count": null,
   "id": "joint-gathering",
   "metadata": {},
   "outputs": [],
   "source": [
    "def divZ_pol(t1, t2) : \n",
    "    return [0, 0]"
   ]
  },
  {
   "cell_type": "code",
   "execution_count": null,
   "id": "confidential-yield",
   "metadata": {},
   "outputs": [],
   "source": [
    "#Tests\n",
    "printZ_pol(divZ_pol(T1, T2))#0.5e^{-i 5π/6}\n",
    "printZ_pol(divZ_pol(T1, T3))#0.33e^{i π/2}\n",
    "printZ_pol(divZ_pol(T2, T3))#0.67e^{-i 2π/3}"
   ]
  },
  {
   "cell_type": "markdown",
   "id": "protected-ecuador",
   "metadata": {},
   "source": [
    "<div style=\"border:3px solid black; padding:3%; font-size:314% ; text-align:center; color:white; background-color:black;\">\n",
    "    L'ensemble de Mandelbrot\n",
    "</div>"
   ]
  },
  {
   "cell_type": "markdown",
   "id": "lyric-request",
   "metadata": {},
   "source": [
    "<p>Écrire la focntion de Mandelbrot $f(z, c)=z^2+c$ où $z$ et $c$ sont des nombres complexes données sous forme cartésienne.</p>"
   ]
  },
  {
   "cell_type": "code",
   "execution_count": null,
   "id": "eleven-language",
   "metadata": {},
   "outputs": [],
   "source": [
    "def f(z, c) : \n",
    "    return [0, 0]"
   ]
  },
  {
   "cell_type": "markdown",
   "id": "transsexual-albany",
   "metadata": {},
   "source": [
    "<p>L'ensemble de Mandelbrot est l'ensemble des nombres complexes $c$ tel que la suite \n",
    "$$\n",
    "\\left\\{\n",
    "    \\begin{array}{rcl}\n",
    "        z_0&=&0\\\\\n",
    "        z_{n+1}&=&f(z_n, c)\n",
    "    \\end{array}\n",
    "\\right.\n",
    "$$ soit convergente. \n",
    "</p>"
   ]
  },
  {
   "cell_type": "markdown",
   "id": "social-possibility",
   "metadata": {},
   "source": [
    "<p>Calculer les dix premiers termes de la suite $z_n$ pour $c=1+i$. <br>Qu'observez-vous sur le module ? <br>Le nombre $c=1+i$ est-il dans l'ensemble de Mandelbrot ? <br>Même questions avec le nombre $c=\\dfrac{1}{4}e^{i\\frac{\\pi}{3}}$</p>"
   ]
  },
  {
   "cell_type": "code",
   "execution_count": null,
   "id": "married-mailman",
   "metadata": {},
   "outputs": [],
   "source": []
  },
  {
   "cell_type": "markdown",
   "id": "peaceful-bullet",
   "metadata": {},
   "source": [
    "En Explorant la page <a href=\"https://fr.wikipedia.org/wiki/Ensemble_de_Mandelbrot\">wikipedia</a> ou par une demande précise à <a href=\"https://chat.openai.com/chat\">chatGPT</a> proposez le code de la fonction <code>calcul_point(c, iteration=10**3)</code> qui renvoie $0$ si la suite $z_n$ précédement définie est convergente et le nombre $n$ d'itération pour <em>se rendre compte</em> que la suite $(z_n)$ diverge. Le paramètre optionnel <code>iteration</code> valant par défaut $10^{3}$ est le nombre d'itération maximal pour constater la divergence ou non de la suite.\n",
    "</p>"
   ]
  },
  {
   "cell_type": "code",
   "execution_count": null,
   "id": "packed-shakespeare",
   "metadata": {},
   "outputs": [],
   "source": [
    "def calcul_point(c, iteration=10**3) : \n",
    "    return 0"
   ]
  },
  {
   "cell_type": "code",
   "execution_count": null,
   "id": "disciplinary-explorer",
   "metadata": {},
   "outputs": [],
   "source": [
    "#Tests\n",
    "print(calcul_point([0, 0]))#0\n",
    "print(calcul_point([1, 1]))#2\n",
    "print(calcul_point([0.278, 0.01]))#127\n",
    "print(calcul_point([0.2779, 0.01]))#697"
   ]
  },
  {
   "cell_type": "markdown",
   "id": "junior-panel",
   "metadata": {},
   "source": [
    "<p>Écrire la fonction <code>Mandelbrot(xmin, xmax, ymin, ymax, precision=100, iteration=50)</code> affichant l'ensemble de Mandelbrot.\n",
    "\n",
    "<ul>\n",
    "    <li><code>xmin</code> est la borne minimale des abscisses de la fenêtre</li>\n",
    "    <li><code>xmax</code> est la borne maximale des abscisses de la fenêtre</li>\n",
    "    <li><code>ymin</code> est la borne minimale des ordonnées de la fenêtre</li>\n",
    "    <li><code>ymax</code> est la borne maximale des ordonnées de la fenêtre</li>\n",
    "    <li><code>precision</code> représente le nombre de subdivision des abscisses et des ordonnées</li>\n",
    "    <li><code>iteration</code> est le nombre d'itération maximal pour constater la convergence ou non de la suite.</li>\n",
    "</ul>\n",
    "\n",
    "Par exemple si l'on souhaite représenter l'ensemble de Mandelbrot dans une fenêtre (que l'on peut s'amuser à redimensionner à l'aide de <code>figsize</code>), où la plus petite valeur de $x$ est $-2$, la plus grande $0.5$ et que l'on souhaite que cet intervalle $[-2, 0.5]$ soit diviser en $100(=precision)$ pixels (chacun de taille $\\dfrac{0.5-(-2)}{100}$. \n",
    "<br>\n",
    "\n",
    "On devra saisir l'instruction <code>Mandelbrot(-2, 0.5, -1.2, 1.2, 100, 50)</code> qui donnera quelque chose comme : \n",
    "\n",
    "<img src=\"https://www.ataraxy.info/COEUR/Modules/SAE202/Mandelbrot100.png\" alt=\"Représentation de ce qui peut être attendu\">\n",
    "\n",
    "\n",
    "Travail optionnel : on pourra également s'amuser à représenter par une graduation de couleur la \"vitesse\" de divergence de la suite $z_n$ (il s'agit des différentes graduations de rouge sur l'image précédente). \n",
    "</p>"
   ]
  },
  {
   "cell_type": "code",
   "execution_count": null,
   "id": "heard-dressing",
   "metadata": {},
   "outputs": [],
   "source": [
    "def Mandelbrot(xmin, xmax, ymin, ymax, precision=100, iteration=50) :\n",
    "    return"
   ]
  },
  {
   "cell_type": "code",
   "execution_count": null,
   "id": "compressed-cattle",
   "metadata": {},
   "outputs": [],
   "source": [
    "iteration=50\n",
    "precision=10\n",
    "\n",
    "xmin=-2\n",
    "xmax=0.5\n",
    "\n",
    "ymin=-1.2\n",
    "ymax=1.2\n",
    "\n",
    "Mandelbrot(xmin, xmax, ymin, ymax, precision, iteration)"
   ]
  },
  {
   "cell_type": "code",
   "execution_count": null,
   "id": "million-maintenance",
   "metadata": {},
   "outputs": [],
   "source": [
    "iteration=50\n",
    "precision=100\n",
    "\n",
    "xmin=-2\n",
    "xmax=0.5\n",
    "\n",
    "ymin=-1.2\n",
    "ymax=1.2\n",
    "\n",
    "Mandelbrot(xmin, xmax, ymin, ymax, precision, iteration)"
   ]
  },
  {
   "cell_type": "code",
   "execution_count": null,
   "id": "whole-staff",
   "metadata": {},
   "outputs": [],
   "source": [
    "iteration=50\n",
    "precision=200\n",
    "\n",
    "xmin=-2\n",
    "xmax=0.5\n",
    "\n",
    "ymin=-1.2\n",
    "ymax=1.2\n",
    "\n",
    "Mandelbrot(xmin, xmax, ymin, ymax, precision, iteration)"
   ]
  },
  {
   "cell_type": "code",
   "execution_count": null,
   "id": "coated-apache",
   "metadata": {},
   "outputs": [],
   "source": [
    "iteration=50\n",
    "precision=400\n",
    "\n",
    "xmin=-2\n",
    "xmax=0.5\n",
    "\n",
    "ymin=-1.2\n",
    "ymax=1.2\n",
    "\n",
    "Mandelbrot(xmin, xmax, ymin, ymax, precision, iteration)"
   ]
  },
  {
   "cell_type": "markdown",
   "id": "suspended-genesis",
   "metadata": {},
   "source": [
    "<p>Réalisez un zoom élégant dans la vallé des hippocampes</p>"
   ]
  },
  {
   "cell_type": "code",
   "execution_count": null,
   "id": "supposed-australian",
   "metadata": {},
   "outputs": [],
   "source": []
  }
 ],
 "metadata": {
  "hide_input": false,
  "kernelspec": {
   "display_name": "Python 3 (ipykernel)",
   "language": "python",
   "name": "python3"
  },
  "language_info": {
   "codemirror_mode": {
    "name": "ipython",
    "version": 3
   },
   "file_extension": ".py",
   "mimetype": "text/x-python",
   "name": "python",
   "nbconvert_exporter": "python",
   "pygments_lexer": "ipython3",
   "version": "3.10.11"
  }
 },
 "nbformat": 4,
 "nbformat_minor": 5
}
