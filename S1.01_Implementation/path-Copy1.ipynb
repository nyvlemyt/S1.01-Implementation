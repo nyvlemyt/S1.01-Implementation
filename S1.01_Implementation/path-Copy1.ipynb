{
 "cells": [
  {
   "cell_type": "markdown",
   "metadata": {
    "deletable": false,
    "editable": false,
    "run_control": {
     "frozen": true
    }
   },
   "source": [
    "# <center> Etude de communautés dans un réseau social</center>\n",
    "<center> SAE 1.01 / 2022 - 23 </center>\n",
    "\n"
   ]
  },
  {
   "cell_type": "markdown",
   "metadata": {
    "deletable": false,
    "editable": false,
    "run_control": {
     "frozen": true
    }
   },
   "source": [
    "Cette SAE est à faire en **binôme**.\n",
    "\n",
    "**Calendrier**\n",
    "- Un contrôle de 2h en lien avec le contenu de cette SAE aura lieu le mercredi **26 octobre** 2022.\n",
    "- Le projet est à rendre le vendredi **28 octobre** 2022. Les modalités de rendu vous seront précisées par votre enseignant.\n",
    "\n",
    "**Evaluation**\n",
    "- Le projet comptera pour 40% de la note de SAE 1.01. <BR>\n",
    "    Il sera particulièrement tenu compte de la qualité du code, des **commentaires** et **docstrings**, des fonctions de **tests unitaires** pour les fonctions renvoyant des résultats. <BR><BR>\n",
    "    \n",
    "- Le contrôle compte pour 60% de la note finale."
   ]
  },
  {
   "cell_type": "markdown",
   "metadata": {
    "deletable": false,
    "editable": false,
    "run_control": {
     "frozen": true
    }
   },
   "source": [
    "## <center> Sujet </center>\n",
    "\n",
    "Une *communauté* est un ensemble de personnes développant des interactions dans un réseau social.\n",
    "\n",
    "Dans ce projet, on étudie des communautés modélisées sous différentes formes. Pour cela, on développe des fonctions permettant d'extraire des informations relatives à ces réseaux. "
   ]
  },
  {
   "cell_type": "markdown",
   "metadata": {
    "deletable": false,
    "editable": false,
    "run_control": {
     "frozen": true
    }
   },
   "source": [
    "On modélise, dans un premier temps, les interactions entre personnes dans un tableau `amis` de chaînes de caractères contenant les prénoms des membres du réseau et tel que `amis[2*i]` a des interactions avec `amis[2*i+1]`.\n",
    "\n",
    "On suppose que chaque interaction n'est décrite qu'une seule fois dans le tableau, et qu'une personne n'a pas d'interaction avec elle-même.\n",
    "\n",
    "**Exemple** : "
   ]
  },
  {
   "cell_type": "code",
   "execution_count": null,
   "metadata": {
    "deletable": false,
    "editable": false
   },
   "outputs": [],
   "source": [
    "amis = [\"Alice\", \"Bob\", \"Alice\", \"Charlie\", \"Bob\", \"Denis\"]"
   ]
  },
  {
   "cell_type": "markdown",
   "metadata": {
    "deletable": false,
    "editable": false,
    "run_control": {
     "frozen": true
    }
   },
   "source": [
    "Ici, \n",
    "- Alice a des interactions Bob et Charlie, \n",
    "- Bob a des intractions avec Alice et Denis,\n",
    "- Charlie a des interactions avec Alice et\n",
    "- Denis a des interactions avec Bob."
   ]
  },
  {
   "cell_type": "markdown",
   "metadata": {
    "deletable": false,
    "editable": false,
    "run_control": {
     "frozen": true
    }
   },
   "source": [
    "#### Question préliminaire : Modélisation d'un réseau par un tableau\n",
    "\n",
    "Muriel, Yasmine et Joël sont amis. Yasmine est amie avec Thomas. \n",
    "Joël, Nassim, Andrea et Ali sont amis. Thomas est ami de Daria et Carole. Thierry, Axel et Léo sont amis. Léo est ami de Valentin qui est ami d'Andrea.\n",
    "\n",
    "- Construire un tableau `p_amis` qui modélise ce réseau d'amitié en selon le principe qui vient d'être décrit."
   ]
  },
  {
   "cell_type": "code",
   "execution_count": 1,
   "metadata": {},
   "outputs": [],
   "source": [
    "p_amis = [\"Joël\",\"Muriel\",\"Joël\",\"Yasmine\",\"Joël\",\"Andrea\",\"Joël\",\"Ali\",\"Joel\",\"Nassim\",\"Muriel\",\"Yasmine\",\"Thomas\",\"Carole\",\n",
    "          \"Thomas\",\"Daria\",\"Thomas\",\"Yasmine\",\"Nassim\",\"Ali\",\"Nassim\",\"Andrea\",\"Ali\",\"Adrea\",\"Valentin\",\"Andrea\",\"Valentin\",\n",
    "          \"Léo\",\"Thierry\",\"Léo\",\"Thierry\",\"Axel\",\"Léo\",\"Axel\"]\n",
    "\n",
    "\n",
    "\n",
    "\n"
   ]
  },
  {
   "cell_type": "markdown",
   "metadata": {
    "deletable": false,
    "editable": false,
    "run_control": {
     "frozen": true
    }
   },
   "source": [
    "#### Question 1 : Nombre d'amis d'une personne\n",
    "\n",
    "- Étant donné un tableau `amis`, écrire une fonction `nb_amis(amis, prenom)` qui retourne le nombre d'amis de `prenom` à partir des données du tableau `amis`. "
   ]
  },
  {
   "cell_type": "code",
   "execution_count": 90,
   "metadata": {},
   "outputs": [
    {
     "name": "stdout",
     "output_type": "stream",
     "text": [
      "('Muriel', 2)\n"
     ]
    }
   ],
   "source": [
    "amis = [\"Joël\",\"Muriel\",\"Joël\",\"Yasmine\",\"Joël\",\"Andrea\",\"Joël\",\"Ali\",\"Joël\",\"Nassim\",\"Muriel\",\"Yasmine\",\"Thomas\",\"Carole\", \n",
    "        \"Thomas\",\"Daria\",\"Thomas\",\"Yasmine\",\"Nassim\",\"Ali\",\"Nassim\",\"Andrea\",\"Ali\",\"Adrea\",\"Valentin\",\"Andrea\",\"Valentin\", \n",
    "        \"Léo\",\"Thierry\",\"Léo\",\"Thierry\",\"Axel\",\"Léo\",\"Axel\"]\n",
    "\n",
    "\n",
    "def nb_amis(amis,prenom):\n",
    "    \"\"\"Cette fonction retourne le nombre d'amis que chaque prénom a à partir des données du tableau amis.\"\"\"\n",
    "    i = 0 \n",
    "    nb = 0 #\n",
    "    t = []\n",
    "    while i < len(amis) // 2 : \n",
    "        t.append(amis[2*i])\n",
    "        t.append(amis[2*i +1])\n",
    "        #print (t)\n",
    "        if prenom == t[0] or prenom == t[1] :\n",
    "            nb += 1 \n",
    "        i += 1    \n",
    "        t = []\n",
    "        \n",
    "    return (prenom, nb)\n",
    "\n",
    "print(nb_amis(amis,\"Muriel\"))\n",
    "\n"
   ]
  },
  {
   "cell_type": "markdown",
   "metadata": {
    "deletable": false,
    "editable": false,
    "run_control": {
     "frozen": true
    }
   },
   "source": [
    "#### Question 2 : Nombre de membres d'un réseau social \n",
    "\n",
    "- Ecrire une fonction `taille_reseau(amis)` qui à partir d'un tableau `amis`retourne le nombre de personnes distinctes participant à ce réseau social."
   ]
  },
  {
   "cell_type": "code",
   "execution_count": 68,
   "metadata": {},
   "outputs": [
    {
     "name": "stdout",
     "output_type": "stream",
     "text": [
      "['Joël', 'Muriel', 'Yasmine', 'Andrea', 'Ali', 'Nassim', 'Thomas', 'Carole', 'Daria', 'Adrea', 'Valentin', 'Léo', 'Thierry', 'Axel']\n"
     ]
    }
   ],
   "source": [
    "def taille_reseau(amis):\n",
    "    \"\"\"Cette fonction \"\"\"\n",
    "    i =0\n",
    "    gens = []\n",
    "    \n",
    "    while i < len(amis)-1 : \n",
    "        x = amis[i]\n",
    "        if not x in gens:\n",
    "            \n",
    "            gens.append(x)\n",
    "            \n",
    "        i += 1\n",
    "        \n",
    "    return gens\n",
    "    \n",
    "print(taille_reseau(amis))\n",
    "            \n",
    "\n",
    "\n",
    "\n",
    "\n"
   ]
  },
  {
   "cell_type": "markdown",
   "metadata": {
    "deletable": false,
    "editable": false,
    "run_control": {
     "frozen": true
    }
   },
   "source": [
    "#### Question 3 :  Lecture des données d'un réseau à partir d'un fichier\n",
    "On suppose que les données sur un réseau social sont stockées dans un fichier CSV de la manière suivante :\n",
    "```\n",
    "prenom1;prenom2\n",
    "prenom3;prenom4\n",
    "prenom5;prenom6\n",
    "...\n",
    "```\n",
    "Autrement dit, chaque ligne du fichier contient une paire de prénoms séparés par un `';'` correspondant à deux personnes ayant des interactions. \n",
    "\n",
    "**NB** : Quatre fichiers CSV de ce type sont fournis dans le répertoire `files/`, il s'agit des fichiers`Communaute1.csv`, `Communaute2.csv`,`Communaute3.csv` et `Communaute4.csv`. \n",
    "Il est recommandé d'en fabriquer d'autres. \n",
    "\n",
    "- Ecrire une fonction `lecture_reseau(path)` prenant en paramètre un chemin vers un tel fichier CSV et retournant un tableau modélisant les interactions entre les personnes du fichier."
   ]
  },
  {
   "cell_type": "code",
   "execution_count": 65,
   "metadata": {},
   "outputs": [],
   "source": [
    "# Définition du chemin vers le fichier\n",
    "path = \"files/communaute1.csv\"\n",
    "\n",
    "def lecture_reseau (path):\n",
    "    \"\"\"\"\"\"\n",
    "    \n",
    "    tab = [] #Création d'un tableau temporaire \n",
    "    \n",
    "    mode  ='r' # Définition du mode d'ouverture du fichier en lecture\n",
    "    \n",
    "    f_input = open( path, mode) # Ouverture du fichier \n",
    "   \n",
    "    li = path.readline() #donne à li la première ligne \n",
    "    \n",
    "    while \"\" != li :\n",
    "        \n",
    "        tab.append(li.split('')) #ajoute les personnes de la ligne sans ...\n",
    "        li = path.readline() #donne à li la valeur de la ligne suivante \n",
    "        \n",
    "    f_input.close #Fermeture du fichier \n",
    "    return tab\n",
    "\n",
    "\n",
    "\n",
    "\n",
    "\n",
    "\n",
    "\n"
   ]
  },
  {
   "cell_type": "markdown",
   "metadata": {
    "deletable": false,
    "editable": false,
    "run_control": {
     "frozen": true
    }
   },
   "source": [
    "#### Question 4 : Modélisation d'un réseau par un dictionnaire\n",
    "On préfère pour la suite, utiliser une modélisation du réseau social par un dictionnaire dont où les clés sont les prénoms des personnes du réseau et la valeur associé à une clé est le tableau des amis de la personne indiquée par la clé.\n",
    "\n",
    "- A partir d'un tableau `amis` modélisant les interactions entre personnes d'un réseau, écrire une fonction `dico_reseau(amis)` qui retourne un dictionnaire dont les clés sont les prénoms des membres du réseau et les valeurs le tableau de leurs amis."
   ]
  },
  {
   "cell_type": "code",
   "execution_count": 5,
   "metadata": {},
   "outputs": [
    {
     "name": "stdout",
     "output_type": "stream",
     "text": [
      "['Joël', 'Muriel', 'Yasmine', 'Andrea', 'Ali', 'Nassim', 'Thomas', 'Carole', 'Daria', 'Adrea', 'Valentin', 'Léo', 'Thierry', 'Axel']\n",
      "{'Joël': ['Muriel', 'Yasmine', 'Andrea', 'Ali', 'Nassim'], 'Muriel': ['Joël', 'Yasmine'], 'Yasmine': ['Joël', 'Muriel', 'Thomas'], 'Andrea': ['Joël', 'Nassim', 'Valentin'], 'Ali': ['Joël', 'Nassim', 'Adrea'], 'Nassim': ['Joël', 'Ali', 'Andrea'], 'Thomas': ['Carole', 'Daria', 'Yasmine'], 'Carole': ['Thomas'], 'Daria': ['Thomas'], 'Adrea': ['Ali'], 'Valentin': ['Andrea', 'Léo'], 'Léo': ['Valentin', 'Thierry', 'Axel'], 'Thierry': ['Léo', 'Axel'], 'Axel': ['Thierry', 'Léo']}\n"
     ]
    }
   ],
   "source": [
    "amis = [\"Joël\",\"Muriel\",\"Joël\",\"Yasmine\",\"Joël\",\"Andrea\",\"Joël\",\"Ali\",\"Joël\",\"Nassim\",\"Muriel\",\"Yasmine\",\"Thomas\",\"Carole\", \n",
    "        \"Thomas\",\"Daria\",\"Thomas\",\"Yasmine\",\"Nassim\",\"Ali\",\"Nassim\",\"Andrea\",\"Ali\",\"Adrea\",\"Valentin\",\"Andrea\",\"Valentin\", \n",
    "        \"Léo\",\"Thierry\",\"Léo\",\"Thierry\",\"Axel\",\"Léo\",\"Axel\"]\n",
    "\n",
    "def taille_reseau(amis):\n",
    "    \"\"\"Cette fonction \"\"\"\n",
    "    i =0\n",
    "    gens = []\n",
    "    \n",
    "    while i < len(amis)-1 : \n",
    "        x = amis[i]\n",
    "        if not x in gens:\n",
    "            gens.append(x)\n",
    "        i += 1\n",
    "    return gens\n",
    "    \n",
    "print(taille_reseau(amis))\n",
    "\n",
    "def dico_reseau(amis):\n",
    "    \"\"\" \"\"\"\n",
    "    x = taille_reseau(amis)\n",
    "    #print (x)\n",
    "    i = 0\n",
    "    y = 0\n",
    "    z = 0\n",
    "    t = []\n",
    "    dico_amis = {}\n",
    "    \n",
    "    while y < len(x) :\n",
    "        \n",
    "        while z < len(amis) // 2 :\n",
    "            \n",
    "            if amis[2*i] == x[y] or amis[2*i +1] == x[y] :\n",
    "            \n",
    "                if amis[2*i] == x[y]:\n",
    "                    t.append(amis[2*i +1])\n",
    "                \n",
    "                else :\n",
    "                    t.append(amis[2*i])\n",
    "            i += 1\n",
    "            z += 1\n",
    "                \n",
    "\n",
    "        dico_amis[x[y]] = t\n",
    "        y += 1\n",
    "        i = 0\n",
    "        z = 0\n",
    "        t = []\n",
    "        \n",
    "        \n",
    "    return dico_amis\n",
    "\n",
    "\n",
    "print(dico_reseau(amis))\n",
    "\n"
   ]
  },
  {
   "cell_type": "markdown",
   "metadata": {
    "deletable": false,
    "editable": false,
    "run_control": {
     "frozen": true
    }
   },
   "source": [
    "#### Question 5 : Nombre d'amis des personnes les plus populaires\n",
    "\n",
    "- A partir d'un dictionnaire `dico_reseau` modélisant les interactions dans un réseau d'amis, écrire une fonction `nb_amis_plus_pop (dico_reseau)` qui retourne le nombre d'amis des personnes les plus populaires du réseau."
   ]
  },
  {
   "cell_type": "code",
   "execution_count": 6,
   "metadata": {},
   "outputs": [
    {
     "ename": "SyntaxError",
     "evalue": "invalid syntax (1976326442.py, line 64)",
     "output_type": "error",
     "traceback": [
      "\u001b[1;36m  Input \u001b[1;32mIn [6]\u001b[1;36m\u001b[0m\n\u001b[1;33m    while\u001b[0m\n\u001b[1;37m          ^\u001b[0m\n\u001b[1;31mSyntaxError\u001b[0m\u001b[1;31m:\u001b[0m invalid syntax\n"
     ]
    }
   ],
   "source": [
    "amis = [\"Joël\",\"Muriel\",\"Joël\",\"Yasmine\",\"Joël\",\"Andrea\",\"Joël\",\"Ali\",\"Joël\",\"Nassim\",\"Muriel\",\"Yasmine\",\"Thomas\",\"Carole\", \n",
    "        \"Thomas\",\"Daria\",\"Thomas\",\"Yasmine\",\"Nassim\",\"Ali\",\"Nassim\",\"Andrea\",\"Ali\",\"Adrea\",\"Valentin\",\"Andrea\",\"Valentin\", \n",
    "        \"Léo\",\"Thierry\",\"Léo\",\"Thierry\",\"Axel\",\"Léo\",\"Axel\"]\n",
    "\n",
    "def taille_reseau(amis):\n",
    "    \"\"\"Cette fonction \"\"\"\n",
    "    i =0\n",
    "    gens = []\n",
    "    \n",
    "    while i < len(amis)-1 : \n",
    "        x = amis[i]\n",
    "        if x in gens:\n",
    "            pass\n",
    "        else:\n",
    "            gens.append(x)\n",
    "        i += 1\n",
    "    return gens\n",
    "    \n",
    "#print(taille_reseau(amis))\n",
    "\n",
    "def dico_reseau(amis):\n",
    "    \"\"\" \"\"\"\n",
    "    x = taille_reseau(amis)\n",
    "    #print (x)\n",
    "    i = 0\n",
    "    y = 0\n",
    "    z = 0\n",
    "    t = []\n",
    "    dico_amis = {}\n",
    "    \n",
    "    while y < len(x) :\n",
    "        \n",
    "        while z < len(amis) // 2 :\n",
    "            \n",
    "            if amis[2*i] == x[y] or amis[2*i +1] == x[y] :\n",
    "            \n",
    "                if amis[2*i] == x[y]:\n",
    "                    t.append(amis[2*i +1])\n",
    "                \n",
    "                else :\n",
    "                    t.append(amis[2*i])\n",
    "            i += 1\n",
    "            z += 1\n",
    "                \n",
    "\n",
    "        dico_amis[x[y]] = t\n",
    "        y += 1\n",
    "        i = 0\n",
    "        z = 0\n",
    "        t = []\n",
    "        \n",
    "        \n",
    "    return dico_amis\n",
    "\n",
    "\n",
    "#print(len(dico_reseau(amis)))\n",
    "\n",
    "\n",
    "\n",
    "def nb_amis_plus_pop (dico_reseau):\n",
    "    i = 0\n",
    "    x = dico_reseau(amis)\n",
    "    \n",
    "    while \n",
    "    \n",
    "    \n",
    "    return y\n",
    "\n",
    "\n",
    "\n",
    "#print(nb_amis_plus_pop(dico_reseau))\n",
    "\n",
    "\n"
   ]
  },
  {
   "cell_type": "markdown",
   "metadata": {
    "deletable": false,
    "editable": false,
    "run_control": {
     "frozen": true
    }
   },
   "source": [
    "#### Question 6 : Personnes les plus populaires\n",
    "\n",
    "- A partir d'un dictionnaire `dico_reseau` modélisant les interactions dans un réseau d'amis, écrire une fonction `les_plus_pop (dico_reseau)` qui retourne un tableau contenant les prénoms de toutes les personnes les plus populaires du réseau."
   ]
  },
  {
   "cell_type": "code",
   "execution_count": null,
   "metadata": {},
   "outputs": [],
   "source": [
    "\n",
    "\n",
    "\n",
    "\n",
    "\n"
   ]
  }
 ],
 "metadata": {
  "kernelspec": {
   "display_name": "Python 3 (ipykernel)",
   "language": "python",
   "name": "python3"
  },
  "language_info": {
   "codemirror_mode": {
    "name": "ipython",
    "version": 3
   },
   "file_extension": ".py",
   "mimetype": "text/x-python",
   "name": "python",
   "nbconvert_exporter": "python",
   "pygments_lexer": "ipython3",
   "version": "3.9.12"
  },
  "latex_envs": {
   "LaTeX_envs_menu_present": true,
   "autoclose": false,
   "autocomplete": true,
   "bibliofile": "biblio.bib",
   "cite_by": "apalike",
   "current_citInitial": 1,
   "eqLabelWithNumbers": true,
   "eqNumInitial": 1,
   "hotkeys": {
    "equation": "Ctrl-E",
    "itemize": "Ctrl-I"
   },
   "labels_anchors": false,
   "latex_user_defs": false,
   "report_style_numbering": false,
   "user_envs_cfg": false
  }
 },
 "nbformat": 4,
 "nbformat_minor": 2
}
