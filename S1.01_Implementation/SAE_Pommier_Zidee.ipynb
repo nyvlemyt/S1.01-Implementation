{
 "cells": [
  {
   "cell_type": "markdown",
   "metadata": {
    "deletable": false,
    "editable": false,
    "run_control": {
     "frozen": true
    }
   },
   "source": [
    "# <center> Etude de communautés dans un réseau social</center>\n",
    "<center> SAE 1.01 / 2022 - 23 </center>\n",
    "\n"
   ]
  },
  {
   "cell_type": "markdown",
   "metadata": {
    "deletable": false,
    "editable": false,
    "run_control": {
     "frozen": true
    }
   },
   "source": [
    "Cette SAE est à faire en **binôme**.\n",
    "\n",
    "**Calendrier**\n",
    "- Un contrôle de 2h en lien avec le contenu de cette SAE aura lieu le mercredi **26 octobre** 2022.\n",
    "- Le projet est à rendre le vendredi **28 octobre** 2022. Les modalités de rendu vous seront précisées par votre enseignant.\n",
    "\n",
    "**Evaluation**\n",
    "- Le projet comptera pour 40% de la note de SAE 1.01. <BR>\n",
    "    Il sera particulièrement tenu compte de la qualité du code, des **commentaires** et **docstrings**, des fonctions de **tests unitaires** pour les fonctions renvoyant des résultats. <BR><BR>\n",
    "    \n",
    "- Le contrôle compte pour 60% de la note finale."
   ]
  },
  {
   "cell_type": "code",
   "execution_count": 15,
   "metadata": {},
   "outputs": [
    {
     "name": "stdout",
     "output_type": "stream",
     "text": [
      "2\n"
     ]
    }
   ],
   "source": [
    "from random import * \n",
    " \n",
    "print(randint(1,26))"
   ]
  },
  {
   "cell_type": "markdown",
   "metadata": {
    "deletable": false,
    "editable": false,
    "run_control": {
     "frozen": true
    }
   },
   "source": [
    "## <center> Sujet </center>\n",
    "\n",
    "Une *communauté* est un ensemble de personnes développant des interactions dans un réseau social.\n",
    "\n",
    "Dans ce projet, on étudie des communautés modélisées sous différentes formes. Pour cela, on développe des fonctions permettant d'extraire des informations relatives à ces réseaux. "
   ]
  },
  {
   "cell_type": "markdown",
   "metadata": {
    "deletable": false,
    "editable": false,
    "run_control": {
     "frozen": true
    }
   },
   "source": [
    "On modélise, dans un premier temps, les interactions entre personnes dans un tableau `amis` de chaînes de caractères contenant les prénoms des membres du réseau et tel que `amis[2*i]` a des interactions avec `amis[2*i+1]`.\n",
    "\n",
    "On suppose que chaque interaction n'est décrite qu'une seule fois dans le tableau, et qu'une personne n'a pas d'interaction avec elle-même.\n",
    "\n",
    "**Exemple** : "
   ]
  },
  {
   "cell_type": "code",
   "execution_count": 1,
   "metadata": {
    "deletable": false,
    "editable": false
   },
   "outputs": [],
   "source": [
    "amis = [\"Alice\", \"Bob\", \"Alice\", \"Charlie\", \"Bob\", \"Denis\"]"
   ]
  },
  {
   "cell_type": "markdown",
   "metadata": {
    "deletable": false,
    "editable": false,
    "run_control": {
     "frozen": true
    }
   },
   "source": [
    "Ici, \n",
    "- Alice a des interactions Bob et Charlie, \n",
    "- Bob a des intractions avec Alice et Denis,\n",
    "- Charlie a des interactions avec Alice et\n",
    "- Denis a des interactions avec Bob."
   ]
  },
  {
   "cell_type": "markdown",
   "metadata": {
    "deletable": false,
    "editable": false,
    "run_control": {
     "frozen": true
    }
   },
   "source": [
    "#### Question préliminaire : Modélisation d'un réseau par un tableau\n",
    "\n",
    "Muriel, Yasmine et Joël sont amis. Yasmine est amie avec Thomas. \n",
    "Joël, Nassim, Andrea et Ali sont amis. Thomas est ami de Daria et Carole. Thierry, Axel et Léo sont amis. Léo est ami de Valentin qui est ami d'Andrea.\n",
    "\n",
    "- Construire un tableau `p_amis` qui modélise ce réseau d'amitié en selon le principe qui vient d'être décrit."
   ]
  },
  {
   "cell_type": "code",
   "execution_count": 2,
   "metadata": {},
   "outputs": [],
   "source": [
    "p_amis = [\"Joël\",\"Muriel\",\"Joël\",\"Yasmine\",\"Joël\",\"Andrea\",\"Joël\",\"Ali\",\"Joël\",\"Nassim\",\"Muriel\",\"Yasmine\",\"Thomas\",\"Carole\",\n",
    "          \"Thomas\",\"Daria\",\"Thomas\",\"Yasmine\",\"Nassim\",\"Ali\",\"Nassim\",\"Andrea\",\"Ali\",\"Andrea\",\"Valentin\",\"Andrea\",\"Valentin\",\n",
    "          \"Léo\",\"Thierry\",\"Léo\",\"Thierry\",\"Axel\",\"Léo\",\"Axel\"]\n",
    "\n",
    "\n",
    "\n",
    "\n"
   ]
  },
  {
   "cell_type": "markdown",
   "metadata": {
    "deletable": false,
    "editable": false,
    "run_control": {
     "frozen": true
    }
   },
   "source": [
    "#### Question 1 : Nombre d'amis d'une personne\n",
    "\n",
    "- Étant donné un tableau `amis`, écrire une fonction `nb_amis(amis, prenom)` qui retourne le nombre d'amis de `prenom` à partir des données du tableau `amis`. "
   ]
  },
  {
   "cell_type": "code",
   "execution_count": 3,
   "metadata": {},
   "outputs": [],
   "source": [
    "#----------------------------------------------------------------------------------------------------------------------\n",
    "#Initialisation, dans ce module, des tableau amis des Communautes 1 et 2 dans l'ordre respectif pour les test unitaires\n",
    "#----------------------------------------------------------------------------------------------------------------------\n",
    "\n",
    "amis1 = ['Barbra', 'Cloe', 'Louis', 'Rufino', 'Idelle', 'Mady', 'Björn', 'Giedrius', 'Cloe', 'Glenys', 'Barbra', \n",
    "         'Vittorio', 'Mady', 'Rufino', 'Barbra', 'Marwa', 'Cloe', 'Louis', 'Björn', 'Faizel', 'Giedrius', 'Rufino', 'Mady', 'Vittore', 'Giedrius', 'Louis', 'Cloe', 'Placide', 'Cloe', 'Teodor', 'Kirsa', 'Vittorio', 'Idelle', 'Marwa', 'Placide', 'Rufino', 'Giedrius', 'Illtyd', 'Björn', 'Cloe', 'Björn', 'Rufino', 'Louis', 'Placide', \n",
    "         'Barbra', 'Rufino', 'Louis', 'Vittorio', 'Olavi', 'Placide', 'Rufino', 'Teodor', 'Louis', 'Olavi', 'Faizel', 'Rufino', 'Olavi', 'Vittorio', 'Barbra', 'Louis', 'Placide', 'Vittorio', 'Barbra', 'Kirsa', 'Illtyd', 'Rufino', 'Jakob', 'Mady', 'Barbra', 'Vittore', 'Björn', 'Idelle', 'Cloe', 'Vittore', 'Olavi', 'Teodor', 'Jakob', 'Placide', \n",
    "         'Cain', 'Vittorio', 'Barbra', 'Faizel', 'Giedrius', 'Mady', 'Kirsa', 'Vittore', 'Barbra', 'Mady', 'Jakob', 'Kirsa', 'Björn', 'Mady', 'Björn', 'Teodor', 'Cloe', 'Vittorio', 'Illtyd', 'Olavi', 'Olavi', 'Rufino', 'Giedrius', 'Glenys', 'Rufino', 'Vittorio', 'Björn', 'Olavi', 'Björn', 'Louis', 'Louis', 'Vittore', 'Mady', 'Teodor', 'Vittore', 'Vittorio', \n",
    "         'Faizel', 'Placide', 'Cloe', 'Mady', 'Cain', 'Placide', 'Mady', 'Vittorio', 'Cloe', 'Idelle', 'Mady', 'Placide', 'Giedrius','Vittorio', 'Faizel', 'Olavi', 'Björn', 'Vittore', 'Idelle', 'Illtyd', 'Barbra', 'Olavi']\n",
    "\n",
    "amis2 = ['Mady', 'Zayneb', 'Honorata', 'Iagan', 'Cain', 'Satchel', 'Honorata', 'Petru', 'Damhnait', 'Áron', 'Aimee', 'Kirsa', \n",
    "         'Chatzkel', 'Liesa', 'Idelle', 'Keith', 'Lizzy', 'Vittorio', 'Gaétan', 'Salomão', 'Björn', 'Grwn', 'Amadeo', 'Cloe', 'Grwn', 'Pavao', 'Hagir', 'Ramsay', 'Gaétan', 'Liesa', 'Damhnait', 'Vittore', 'Hagir', 'Imane', 'Dragan', 'Mireille', 'Despoina', 'Gawel', 'Phuong', 'Ramsay', 'Argus', 'Dragan', 'Cameron', 'Mélanie', 'Barbra', 'Louis', 'Lujayn', 'Séléna', 'Dragan', 'Évike', 'Barbra', 'Dragan', 'Barbra', 'Glenys', 'Sabino', 'Shayla', 'Bridger', 'Glenys', 'Honorata', 'Mireille', 'Duff', 'Ixchel', 'Cloe', 'Louis', 'Olavi', 'Vibol', 'Christ', 'Gaétan', 'Duff', 'Ramsay', 'Mireille', 'Phuong', 'Gergõ', 'Glenys', 'Pavao', 'Yassin', 'Lizzy', 'Mélanie', 'Despoina', 'Marwa', 'Illtyd', 'Lizzy', 'Finn', 'Placide', 'Giedrius', 'Vibol', 'Gawel', 'Iagan', 'Despoina', 'Stéphanie', 'Howell', 'Olavi', 'Keld', 'Mady', 'Montserrat', 'Silviu', 'Ixchel', 'Shayla', 'Grwn', 'Illtyd', 'Louis', 'Placide', 'Chatzkel', 'Shirine', 'Iagan', 'Phuong', 'Amadeo', 'Glenys', 'Jakob', 'Lizzy', 'Cain', 'Gawel', 'Keld', 'Lalie', 'Draco', 'Gawel', 'Imane', 'Ixchel', 'Hagir', 'Pavao', 'Aliya', 'Zayneb', 'Gaétan', 'Olavi', 'Argus', 'Satchel', 'Imane', 'Ágoston', 'Lizzy', 'Shayla', 'Glenys', 'Séléna', 'Cain', 'Olavi', 'Dragan', 'Imane', 'Edmonda', 'Sabino', 'Marwa', 'Séléna', 'Liesa', 'Marwa', 'Hagir', 'Simo', 'Ambrogio', 'Gaétan', 'Aimee', 'Honorata', 'Naheed', 'Shayla', 'Amadeo', 'Damhnait', 'Dany', 'Mady', 'Björn', 'Évike', 'Dragan', 'Salomão', 'Björn', 'Vittore', 'Petru', 'Shayla', 'Aliya', 'Áron', 'Eliezer', 'Glenys', 'Christ', 'Gawel', 'Kirsa', 'Papillion', 'Gaétan', 'Sabino', 'Björn', 'Dany', 'Barbra', 'Christ', 'Christ', 'Vibol', 'Jakob', 'Ziva', 'Glenys', 'Imane', 'Christ', 'Dany', 'Gergõ', 'Édouard', 'Barbra', 'Natasa', 'Emmy', 'Stéphanie', 'Christ', 'Iagan', 'Björn', 'Gergõ', 'Lalie', 'Salomão', 'Aimee', 'Imane', 'Gordon', 'Natasa', 'Ixchel', 'Menashe', 'Aimee', 'Menashe', 'Argus', 'Duff', 'Draco', 'Gordon', 'Amadeo', 'Phuong', 'Gawel', 'Évike', 'Aimee', 'Finn', 'Silviu', 'Stéphanie', 'Christ', 'Vittore', 'Iagan', 'Pavao', 'Keith', 'Naheed', 'Barbra', 'Grwn', 'Cloe', 'Illtyd', 'Glenys', 'Idelle', 'Damhnait', 'Placide', 'Mady', 'Placide', 'Edmonda', 'Epaphroditos', 'Draco', 'Epaphroditos', 'Chatzkel', 'Keith', 'Emmy', 'Griffith', \n",
    "         'Gawel', 'Gaétan', 'Jacaline', 'Keld', 'Menashe', 'Placide', 'Faizel', 'Imane', 'Keld', 'Mélanie', 'Emmy', 'Imane', 'Björn', 'Illtyd', 'Olavi', 'Petru', 'Finn', 'Lujayn', 'Gordon', 'Ixchel', 'Pavao', 'Ziva', 'Dragan', 'Edmonda', 'Cloe', 'Liesa', 'Ziva', 'Áron', 'Lalie', 'Silviu', 'Cowal', 'Edmonda', 'Jakob', 'Vittorio', 'Damhnait', 'Gawel', 'Faizel', 'Lizzy', 'Cardea', 'Séverin', 'Ixchel', 'Séléna', 'Christ', 'Séléna', 'Duff', 'Grwn', 'Ramsay', 'Vibol', 'Petru', 'Phuong', 'Amadeo', 'Faizel', 'Ambrogio', 'Petru', 'Lujayn', 'Rufino', 'Jari', 'Lizzy', 'Honorata', 'Menashe', 'Kirsa', 'Petru', 'Dany', 'Pavao', 'Phuong', 'Vittorio', 'Pavao', 'Vittore', 'Lujayn', 'Silviu', 'Emmy', 'Shirine', 'Chatzkel', 'Dany', 'Glenys', 'Zayneb', 'Imane', 'Simo', 'Gordon', 'Séléna', 'Idelle', 'Imane', 'Argus', 'Epaphroditos', 'Amadeo', 'Draco', 'Dragan', 'Keith', 'Ixchel', 'Mireille', 'Eliezer', 'Ágoston', 'Dany', 'Vittore', 'Petru', 'Sabino', 'Rufino', 'Vittorio', 'Keith', 'Sabino', 'Natasa', 'Papillion', 'Edmonda', 'Natasa', 'Isolde', 'Lizzy', 'Duff', 'Glenys', 'Spiridon', 'Édouard', 'Dany', 'Draco', 'Ambrogio', 'Faizel', 'Mady', 'Yassin', 'Cain', 'Hagir', 'Iagan', 'Stéphanie', 'Cain', 'Vibol', 'Epaphroditos', 'Gaétan', 'Christ', 'Glenys', 'Aïcha', 'Dragan', 'Aïcha', 'Isolde', 'Menashe', 'Shirine', 'Aïcha', 'Epaphroditos', 'Aïcha', 'Gawel', 'Chatzkel', 'Kirsa', 'Glenys', 'Jakob', 'Björn', 'Honorata', 'Mélanie', 'Placide', 'Ilies', 'Séverin', 'Gergõ', 'Gordon', 'Aimee', 'Louis', 'Idelle', 'Natasa', 'Ambrogio', 'Liesa', 'Kirsa', 'Olavi', 'Gawel', 'Hagir', 'Mady', 'Séléna', 'Cain', 'Papillion', 'Mireille', 'Salomão', 'Ilies', 'Petru', 'Epaphroditos', 'Glenys', 'Cain', 'Dragan', 'Cain', 'Epaphroditos', 'Mireille', 'Stéphanie', 'Bridger', 'Mireille', 'Séléna', 'Vittore', 'Aimee', 'Spiridon', 'Amadeo', 'Ambrogio', 'Argus', 'Évike', 'Liesa', 'Pavao', 'Lizzy', 'Salomão', 'Emmy', 'Évike', 'Gordon', 'Illtyd', 'Dragan', 'Vibol', 'Illtyd', 'Salomão', 'Edmonda', 'Liesa', 'Mady', 'Natasa', 'Gawel', 'Papillion', 'Aimee', 'Lujayn', 'Cain', 'Séléna', 'Glenys', 'Keld', 'Faizel', 'Áron', 'Björn', 'Silviu', 'Ambrogio', 'Placide', 'Houda', 'Shirine', 'Aïcha', 'Olavi', 'Placide', 'Shayla', 'Barbra', 'Vittore', 'Dragan', 'Satchel', 'Illtyd', \n",
    "         'Louis', 'Menashe', 'Spiridon', 'Barbra', 'Évike', 'Iagan', 'Zayneb', 'Argus', 'Papillion', 'Gawel', 'Olavi', 'Emmy', 'Áron', 'Aimee', 'Howell', 'Placide', 'Vibol', 'Petru', 'Silviu', 'Cain', 'Mady', 'Epaphroditos', 'Mireille', 'Dany', 'Montserrat', 'Chatzkel', 'Emmy', 'Damhnait', 'Ágoston', 'Petru', 'Ziva', 'Dragan', 'Emmy', 'Olavi', 'Séléna', 'Lilas', 'Mady', 'Faizel', 'Papillion', 'Hagir', 'Mireille', 'Chatzkel', 'Draco', 'Bridger', 'Dany', 'Faizel', 'Spiridon', 'Chatzkel', 'Shayla', 'Ambrogio', 'Aïcha', 'Faizel', 'Ziva', 'Argus', 'Ramsay', 'Chatzkel', 'Zayneb', 'Barbra', 'Idelle', 'Lujayn', 'Spiridon', 'Draco', 'Rufino', 'Damhnait', 'Grwn', 'Jacaline', 'Séléna', 'Dragan', 'Petru', 'Grwn', 'Mady', 'Menashe', 'Vittorio', 'Nolann', 'Placide', 'Finn', 'Séléna', 'Placide', 'Vittorio', 'Damhnait', 'Séléna', 'Menashe', 'Séléna', 'Idelle', 'Vittorio', 'Mélanie', 'Salomão', 'Nazim', 'Évike', 'Bridger', 'Shayla', 'Christ', 'Jari', 'Mady', 'Petru', 'Kirsa', 'Sabino', 'Lizzy', 'Ágoston', 'Draco', 'Montserrat', 'Vittore', 'Édouard', 'Christ', 'Grwn', 'Lalie', 'Vibol', 'Keld', 'Vittore', 'Grwn', 'Liesa', 'Draco', 'Séverin', 'Finn', 'Shayla', 'Cloe', 'Pavao', 'Imane', 'Placide', 'Mélanie', 'Shirine', 'Dany', 'Papillion', 'Iagan', 'Nolann', 'Barbra', 'Illtyd', 'Hagir', 'Ixchel', 'Christ', 'Ilies', 'Christ', 'Silviu', 'Hagir', 'Silviu', 'Faizel', 'Keld', 'Cowal', 'Honorata', 'Iagan', 'Vittore', 'Gaétan', 'Pavao', 'Phuong', 'Ziva', 'Christ', 'Évike', 'Emmy', 'Epaphroditos', 'Gaétan', 'Évike', 'Silviu', 'Vibol', 'Edmonda', 'Séléna', 'Mireille', 'Évike', 'Finn', 'Shirine', 'Damhnait', 'Ixchel', 'Nazim', 'Zayneb', 'Silviu', 'Spiridon', 'Björn', 'Gordon', 'Bridger', 'Olavi', 'Amadeo', 'Duff', 'Damhnait', 'Draco', 'Ambrogio', 'Howell', 'Dany', 'Ágoston', 'Petru', 'Vittore', 'Honorata', 'Imane', 'Christ', 'Édouard', 'Jakob', 'Édouard', 'Björn', 'Iagan', 'Idelle', 'Pavao', 'Illtyd', 'Shayla', 'Montserrat', 'Mélanie', 'Gaétan', 'Keld', 'Pavao', 'Spiridon', 'Damhnait', 'Jakob', 'Aïcha', 'Shayla', 'Chatzkel', 'Howell', 'Ixchel', 'Jakob', 'Amadeo', 'Mélanie', 'Louis', 'Petru', 'Barbra', 'Iagan', 'Edmonda', 'Eliezer', 'Glenys', 'Lujayn', 'Imane', 'Stéphanie', 'Montserrat', 'Simo', 'Cain', 'Silviu', 'Keith', 'Kirsa', 'Idelle', \n",
    "         'Mireille', 'Lizzy', 'Vittore', 'Houda', 'Évike', 'Cain', 'Petru', 'Chatzkel', 'Édouard', 'Gergõ', 'Howell', 'Faizel', 'Lalie', 'Sabino', 'Vittorio', 'Cain', 'Jari', 'Epaphroditos', 'Howell', 'Louis', 'Évike', 'Jakob', 'Louis', 'Amadeo', 'Dragan', 'Silviu', 'Simo', 'Duff', 'Epaphroditos', 'Lizzy', 'Vibol', 'Dragan', 'Iagan', 'Lalie', 'Sabino', 'Aïcha', 'Lizzy', 'Hagir', 'Sabino', 'Ambrogio', 'Lalie', 'Edmonda', 'Menashe', 'Mélanie', 'Vittore', 'Bridger', 'Vibol', 'Louis', 'Naheed', 'Amadeo', 'Aïcha', 'Amadeo', 'Natasa', 'Björn', 'Séléna', 'Cameron', 'Dany', 'Gawel', 'Menashe', 'Aimee', 'Salomão', 'Natasa', 'Évike', 'Chatzkel', 'Giedrius', 'Placide', 'Áron', 'Olavi', 'Vittorio', 'Isolde', 'Mady', 'Imane', 'Mady', 'Gordon', 'Vibol', 'Duff', 'Silviu', 'Cowal', 'Jakob', 'Jakob', 'Olavi', 'Imane', 'Phuong', 'Aimee', 'Lalie', 'Argus', 'Howell', 'Lujayn', 'Shirine', 'Gaétan', 'Édouard', 'Argus', 'Edmonda', 'Kirsa', 'Áron', 'Draco', 'Ixchel', 'Illtyd', 'Phuong', 'Barbra', 'Mireille', 'Ambrogio', 'Yassin', 'Damhnait', 'Lizzy', 'Illtyd', 'Spiridon', 'Ixchel', 'Liesa', 'Áron', 'Évike', 'Aimee', 'Emmy', 'Cloe', 'Hagir', 'Bridger', 'Duff', 'Sabino', 'Teodor', 'Epaphroditos', 'Faizel', 'Faizel', 'Gergõ', 'Iagan', 'Liesa', 'Cloe', 'Ixchel', 'Epaphroditos', 'Vibol', 'Dragan', 'Stéphanie', 'Ambrogio', 'Pavao', 'Damhnait', 'Ziva', 'Chatzkel', 'Hagir', 'Cameron', 'Hagir', 'Lilas', 'Lujayn', 'Gaétan', 'Vibol', 'Howell', 'Lalie', 'Hagir', 'Olavi', 'Olavi', 'Édouard', 'Duff', 'Illtyd', 'Gawel', 'Imane', 'Honorata', 'Howell', 'Keith', 'Phuong', 'Faizel', 'Rufino', 'Chatzkel', 'Gordon', 'Duff', 'Olavi', 'Ixchel', 'Teodor', 'Howell', 'Papillion', 'Epaphroditos', 'Gergõ', 'Cloe', 'Glenys', 'Mireille', 'Ágoston', 'Gawel', 'Rufino', 'Aliya', 'Nazim', 'Isolde', 'Shayla', 'Papillion', 'Sabino', 'Barbra', 'Mélanie', 'Aimee', 'Cowal', 'Keith', 'Pavao', 'Eliezer', 'Montserrat', 'Honorata', 'Papillion', 'Björn', 'Imane', 'Cain', 'Dany', 'Imane', 'Mélanie', 'Christ', 'Dragan', 'Emmy', 'Lalie', 'Papillion', 'Évike', 'Cain', 'Vittorio', 'Jari', 'Montserrat', 'Satchel', 'Évike', 'Honorata', 'Áron', 'Kirsa', 'Mireille', 'Cameron', 'Pavao', 'Isolde', 'Petru', 'Cardea', 'Áron', 'Jakob', 'Silviu', 'Cain', 'Lizzy', 'Despoina', 'Mady', 'Aliya', \n",
    "         'Christ', 'Olavi', 'Áron', 'Montserrat', 'Shayla', 'Gergõ', 'Jari', 'Spiridon', 'Séléna', 'Lujayn', 'Olavi', 'Lizzy', 'Rufino', 'Ixchel', 'Petru', 'Dany', 'Vibol', 'Jakob', 'Ramsay', 'Faizel', 'Yassin', 'Hagir', 'Kirsa', 'Phuong', 'Vittore', 'Glenys', 'Isolde', 'Montserrat', 'Édouard', 'Björn', 'Rufino', 'Keith', 'Rufino', 'Grwn', 'Satchel', 'Amadeo', 'Sevan', 'Faizel', 'Finn', 'Silviu', 'Séléna', 'Gordon', 'Évike', 'Barbra', 'Duff', 'Glenys', 'Iagan', 'Louis', 'Pavao', 'Mady', 'Mireille', 'Bridger', 'Montserrat', 'Honorata', 'Pavao', 'Ixchel', 'Placide', 'Keith', 'Stéphanie', 'Faizel', 'Illtyd', 'Dragan', 'Nazim', 'Satchel', 'Silviu', 'Grwn', 'Mireille', 'Liesa', 'Salomão', 'Liesa', 'Petru', 'Cain', 'Salomão', 'Cain', 'Mélanie', 'Jari', 'Sabino', 'Chatzkel', 'Gawel', 'Keith', 'Séverin', 'Barbra', 'Áron', 'Iagan', 'Jakob', 'Ambrogio', 'Papillion', 'Damhnait', 'Papillion', 'Gawel', 'Lizzy', 'Aimee', 'Epaphroditos', 'Aïcha', 'Yassin', 'Idelle', 'Naheed', 'Liesa', 'Vibol', 'Placide', 'Séléna', 'Aimee', 'Keith', 'Gergõ', 'Lizzy', 'Damhnait', 'Sevan', 'Emmy', 'Papillion', 'Mireille', 'Rufino', 'Iagan', 'Silviu', 'Finn', 'Liesa', 'Chatzkel', 'Damhnait', 'Gordon', 'Lujayn', 'Amadeo', 'Évike', 'Griffith', 'Phuong', 'Olavi', 'Shirine', 'Duff', 'Rufino', 'Duff', 'Placide', 'Ilies', 'Placide']\n",
    "\n",
    "#On n'initialise pas les autres tableaux car ils sont trop important et seraient donc inutiles \n"
   ]
  },
  {
   "cell_type": "code",
   "execution_count": 4,
   "metadata": {},
   "outputs": [
    {
     "name": "stdout",
     "output_type": "stream",
     "text": [
      "('Joël', 5)\n",
      "\n",
      "Tests unitaires de nb_amis(amis, prenom) : ok\n"
     ]
    }
   ],
   "source": [
    "def nb_amis(amis, prenom):\n",
    "    \"\"\"Cette fonction retourne le nombre d'amis de chaque prénom à partir des données du tableau amis.\"\"\"\n",
    "    \n",
    "    #Initiallisation des variables :\n",
    "    i = 0                # compteur de tours\n",
    "    compteur_amis = 0    # compteur d'amis du prénom\n",
    "    tab = []             # tableau temporaire de vérification \n",
    "    \n",
    "    while i < len(amis) // 2 : \n",
    "        \n",
    "        # Ajout des amis en interraction dans le tableau temporaire :\n",
    "        tab.append(amis[2*i])       \n",
    "        tab.append(amis[2*i +1])  \n",
    "        \n",
    "        if prenom == tab[0] or prenom == tab[1] :   # Vérification de la présence du prénom demandé dans le tableau temporaire\n",
    "            compteur_amis += 1                  # Ajoute 1 au compteur d'amis du prénom \n",
    "        \n",
    "        i += 1    # Ajout d'1 au compteur de boucle\n",
    "        tab = []    # Réinitialisation du tableau temporaire de vérification \n",
    "        \n",
    "    return (prenom, compteur_amis) #retourne le prénom intialisé et son nombre d'amis\n",
    "\n",
    "print(nb_amis(p_amis,\"Joël\")) #affiche la fonction appelée\n",
    "\n",
    "\n",
    "\n",
    "\n",
    "def test_nb_amis ():\n",
    "    \"\"\"Fonction de tests unitaires de la fonction nb_amis(amis, prenom) \"\"\"\n",
    "    \n",
    "    #Pour p_amis :\n",
    "    assert nb_amis(p_amis,\"Joel\") != ('Joël', 5) #Joël a vraiment 5 amis, mais il manque ¨ sur le e de Joel\n",
    "    assert nb_amis(p_amis,\"Muriel\") == (\"Muriel\", 2) #Muriel a 2 amis\n",
    "    assert nb_amis(p_amis,\"Yasmine\") != ('Yasmine', 5) #Yasmine a 3 amis\n",
    "    assert nb_amis(p_amis,\"Mike\") == (\"Mike\", 0) #Mike n'est pas dans p_amis\n",
    "    \n",
    "    #Pour Communaute1.csv : \n",
    "    assert not nb_amis(amis1,\"Jacob\") == (\"Jakob\", 3) #Il n'y a pas Jacob dans amis1 mais il y a Jakob, qui a 3 amis\n",
    "    assert nb_amis(amis1,\"Mady\") == (\"Mady\", 11) #Mady a 11 amis dans amis1\n",
    "    assert nb_amis(amis1,\"Vittore\") == (\"Vittore\", 7) # Vittore a 7 amis\n",
    "    assert nb_amis(amis1,\"Ambrogio\") != (\"Ambrogio\", 12) #Ambrogio n'est pas dans amis1, il n'est que dans amis2 \n",
    "    \n",
    "    #Pour Communaute2.csv\n",
    "    assert nb_amis(amis2,\"Mady\") != (\"Mady\", 11) #Mady a 15 amis dans le tableau amis2, il en n'a que 11 dans amis1\n",
    "    assert nb_amis(amis2,\"Ambrogio\") == (\"Ambrogio\", 12) #Ambrogio a bien 12 dans ce tableau amis2\n",
    "    assert nb_amis(amis2,\"Selena\") == (\"Selena\", 0) #Il manque les accents à Séléna pour être reconnue \n",
    "    assert not nb_amis(amis2,\"Joël\") == (\"Joël\", 5) #Joël n'est pas dans amis2, il n'est que dans p_amis\n",
    "    \n",
    "    print('\\nTests unitaires de nb_amis(amis, prenom) : ok') #\n",
    "\n",
    "test_nb_amis()  #appel de la fonction"
   ]
  },
  {
   "cell_type": "markdown",
   "metadata": {
    "deletable": false,
    "editable": false,
    "run_control": {
     "frozen": true
    }
   },
   "source": [
    "#### Question 2 : Nombre de membres d'un réseau social \n",
    "\n",
    "- Ecrire une fonction `taille_reseau(amis)` qui à partir d'un tableau `amis`retourne le nombre de personnes distinctes participant à ce réseau social."
   ]
  },
  {
   "cell_type": "code",
   "execution_count": 5,
   "metadata": {},
   "outputs": [
    {
     "name": "stdout",
     "output_type": "stream",
     "text": [
      "['Joël', 'Muriel', 'Yasmine', 'Andrea', 'Ali', 'Nassim', 'Thomas', 'Carole', 'Daria', 'Valentin', 'Léo', 'Thierry', 'Axel']\n",
      "13\n",
      "\n",
      "Tests unitaires de gens_dans_reseau(amis) : ok\n",
      "\n",
      "Tests unitaires de taille_reseau(amis) : ok\n"
     ]
    }
   ],
   "source": [
    "def gens_dans_reseau(amis):\n",
    "    \"\"\"Cette fonction, qui prend en paramètre un tableau amis, retourne un tableau des personnes distinctes participant à \n",
    "    ce réseau social, qui est la liste des clés d'un dictionnaire.\n",
    "    En effet, dans un tableau on ne peut avoir deux clés ayant le même nom, donc lorsqu'on ajoute toutes les personnes du \n",
    "    tableau amis, on n'aura qu'une fois tous les prénoms.\n",
    "    La valeur, associée aux clés, n'est pas importante.\n",
    "    Cette fonction sera très utile pour les autres questions. \"\"\"\n",
    "    \n",
    "    dico = {} #initialisation du dictionnaire retourné\n",
    "    i = 0     #initialisation du compteur de boucle \n",
    "    \n",
    "    while i < len(amis):     #Boucle de condition pour survoler tout le tableau amis \n",
    "        dico[amis[i]] = \"\"   #Ajout de toutes les valeurs du tableau amis en tant que clé dans un dicotionnaire\n",
    "        i+=1                 #Ajout d'1 au compteur de boucle pour avancer \n",
    "    \n",
    "    return list(dico)        #retourne le tableau des clés de dico\n",
    "\n",
    "print(gens_dans_reseau(p_amis)) #affiche la fonction appelé\n",
    "\n",
    "\n",
    "\n",
    "\n",
    "def taille_reseau (amis):\n",
    "    \"\"\"Cette fonction retourne, à partir d'un tableau amis, le nombre de personnes distinctes participant à ce réseau social \n",
    "    Elle appelle la fonction vu au dessus gens_dans_reseau, qui retourne un tableau de tous les amis participant à ce réseau \n",
    "    social et retourne la taille de ce tableau.\"\"\"\n",
    "    \n",
    "    return len(gens_dans_reseau(amis))\n",
    "\n",
    "print(taille_reseau(p_amis)) #affiche la fonction appelé\n",
    "\n",
    "\n",
    "\n",
    "def test_gens_dans_reseau() : \n",
    "    \"\"\"Fonction de tests unitaires de la fonction gens_dans_reseau(amis)\"\"\"\n",
    "    \n",
    "    assert gens_dans_reseau(p_amis) == ['Joël', 'Muriel', 'Yasmine', 'Andrea', 'Ali', 'Nassim', 'Thomas', 'Carole', 'Daria', 'Valentin', 'Léo', 'Thierry', 'Axel']\n",
    "    assert len(gens_dans_reseau(amis1)) == taille_reseau(amis1)\n",
    "    assert not gens_dans_reseau(amis2) == []\n",
    "    print('\\nTests unitaires de gens_dans_reseau(amis) : ok')\n",
    "    \n",
    "test_gens_dans_reseau()   #appel de la fonction\n",
    "    \n",
    "\n",
    "def test_taille_reseau ():\n",
    "    \"\"\"Fonction de tests unitaires de la fonction taille_reseau(amis)\"\"\"\n",
    "    \n",
    "    assert taille_reseau(p_amis) == 13\n",
    "    assert not taille_reseau(amis1) == 200 # taille_reseau(amis1) retourne 20\n",
    "    assert taille_reseau(amis2) == 100\n",
    "    \n",
    "    #Il faut exécuter la cellule de la question suivante pour le prochain assert\n",
    "    #assert taille_reseau(amis_cvs) >= 13\n",
    "    \n",
    "    print('\\nTests unitaires de taille_reseau(amis) : ok')\n",
    "\n",
    "test_taille_reseau()   #appel de la fonction"
   ]
  },
  {
   "cell_type": "code",
   "execution_count": 6,
   "metadata": {},
   "outputs": [
    {
     "name": "stdout",
     "output_type": "stream",
     "text": [
      "13\n",
      "\n",
      "Tests unitaires de taille_reseau2(amis) : ok\n"
     ]
    }
   ],
   "source": [
    "#------------------------------------------------------------------\n",
    "#Deuxième possibilité pour la fonction taille_reseau(amis) demandée\n",
    "#------------------------------------------------------------------\n",
    "\n",
    "def taille_reseau2 (amis) :\n",
    "    \"\"\"Cette fonction retourne, à partir d'un tableau amis, le nombre de personnes distinctes participant à ce réseau social.\n",
    "    Elle regroupe à elle-même, les deux fonctions précédentes : gens_dans_reseau et taille_reseau\"\"\"\n",
    "    \n",
    "    #Initiallisation des variables :\n",
    "    i = 0                     # compteur de tours\n",
    "    compteur_personnes = 0    # compteur des personnes distinctes participant au réseau amis\n",
    "    tab = []                  # tableau de vérification de la présence des personnes distinctes participant au réseau amis\n",
    "    \n",
    "    while i< len(amis): #Boucle de condition pour survoler tout le tableau amis \n",
    "        \n",
    "        if not amis[i] in tab :           #Condition de vérification de la présence d'un prénom dans le tableau \n",
    "            tab.append(amis[i])           #Ajout d'une personne dans le tableau de vérication\n",
    "            compteur_personnes += 1       #Ajout d'1 au compteur personnes distinctes participant au réseau amis\n",
    "        \n",
    "        i += 1 #Ajout d'1 au compteur de boucle pour avancer \n",
    "    \n",
    "    return (compteur_personnes) #retourne le nombre de personnes distinctes participant au reseau\n",
    "\n",
    "print(taille_reseau2(p_amis)) #affiche la fonction appelé\n",
    "\n",
    "\n",
    "\n",
    "\n",
    "def test_taille_reseau2 ():\n",
    "    \"\"\"Fonction de tests unitaires de la fonction taille_reseau2(amis) \"\"\"\n",
    "    \n",
    "    assert taille_reseau2(p_amis) == 13\n",
    "    assert not taille_reseau2(amis1) == 200 # taille_reseau(amis1) retourne 20\n",
    "    assert taille_reseau2(amis2) == 100\n",
    "    \n",
    "    #Il faut Executer la cellule de la question suivante pour le prochain assert\n",
    "    # assert taille_reseau(amis_cvs) >= 13\n",
    "    \n",
    "    print('\\nTests unitaires de taille_reseau2(amis) : ok')\n",
    "\n",
    "\n",
    "test_taille_reseau2() #appel de la fonction"
   ]
  },
  {
   "cell_type": "markdown",
   "metadata": {
    "deletable": false,
    "editable": false,
    "run_control": {
     "frozen": true
    }
   },
   "source": [
    "#### Question 3 :  Lecture des données d'un réseau à partir d'un fichier\n",
    "On suppose que les données sur un réseau social sont stockées dans un fichier CSV de la manière suivante :\n",
    "```\n",
    "prenom1;prenom2\n",
    "prenom3;prenom4\n",
    "prenom5;prenom6\n",
    "...\n",
    "```\n",
    "Autrement dit, chaque ligne du fichier contient une paire de prénoms séparés par un `';'` correspondant à deux personnes ayant des interactions. \n",
    "\n",
    "**NB** : Quatre fichiers CSV de ce type sont fournis dans le répertoire `files/`, il s'agit des fichiers`Communaute1.csv`, `Communaute2.csv`,`Communaute3.csv` et `Communaute4.csv`. \n",
    "Il est recommandé d'en fabriquer d'autres. \n",
    "\n",
    "- Ecrire une fonction `lecture_reseau(path)` prenant en paramètre un chemin vers un tel fichier CSV et retournant un tableau modélisant les interactions entre les personnes du fichier."
   ]
  },
  {
   "cell_type": "code",
   "execution_count": 7,
   "metadata": {},
   "outputs": [
    {
     "name": "stdout",
     "output_type": "stream",
     "text": [
      "['Barbra', 'Cloe', 'Louis', 'Rufino', 'Idelle', 'Mady', 'Björn', 'Giedrius', 'Cloe', 'Glenys', 'Barbra', 'Vittorio', 'Mady', 'Rufino', 'Barbra', 'Marwa', 'Cloe', 'Louis', 'Björn', 'Faizel', 'Giedrius', 'Rufino', 'Mady', 'Vittore', 'Giedrius', 'Louis', 'Cloe', 'Placide', 'Cloe', 'Teodor', 'Kirsa', 'Vittorio', 'Idelle', 'Marwa', 'Placide', 'Rufino', 'Giedrius', 'Illtyd', 'Björn', 'Cloe', 'Björn', 'Rufino', 'Louis', 'Placide', 'Barbra', 'Rufino', 'Louis', 'Vittorio', 'Olavi', 'Placide', 'Rufino', 'Teodor', 'Louis', 'Olavi', 'Faizel', 'Rufino', 'Olavi', 'Vittorio', 'Barbra', 'Louis', 'Placide', 'Vittorio', 'Barbra', 'Kirsa', 'Illtyd', 'Rufino', 'Jakob', 'Mady', 'Barbra', 'Vittore', 'Björn', 'Idelle', 'Cloe', 'Vittore', 'Olavi', 'Teodor', 'Jakob', 'Placide', 'Cain', 'Vittorio', 'Barbra', 'Faizel', 'Giedrius', 'Mady', 'Kirsa', 'Vittore', 'Barbra', 'Mady', 'Jakob', 'Kirsa', 'Björn', 'Mady', 'Björn', 'Teodor', 'Cloe', 'Vittorio', 'Illtyd', 'Olavi', 'Olavi', 'Rufino', 'Giedrius', 'Glenys', 'Rufino', 'Vittorio', 'Björn', 'Olavi', 'Björn', 'Louis', 'Louis', 'Vittore', 'Mady', 'Teodor', 'Vittore', 'Vittorio', 'Faizel', 'Placide', 'Cloe', 'Mady', 'Cain', 'Placide', 'Mady', 'Vittorio', 'Cloe', 'Idelle', 'Mady', 'Placide', 'Giedrius', 'Vittorio', 'Faizel', 'Olavi', 'Björn', 'Vittore', 'Idelle', 'Illtyd', 'Barbra', 'Olavi']\n",
      "\n",
      "Tests unitaires de lecture_reseau(path) : ok\n"
     ]
    }
   ],
   "source": [
    "def lecture_reseau(path):\n",
    "    \"\"\" \n",
    "    Cette fonction prend en paramètre le chemin vers un fichier CSV et en retourne un \n",
    "    tableau modélisant les interactions entre les personnes du fichier.\n",
    "    La fonction créé un tableau de cette façon:\n",
    "    \n",
    "    en respectant la regle d'interration donnée au départ :  \n",
    "    tel que amis[2*i] a des interactions avec amis[2*i+1]\n",
    "    \"\"\"\n",
    "    \n",
    "    tab = [] #Création d'un tableau à retourner  \n",
    "    \n",
    "    mode  ='r' # Définition du mode d'ouverture du fichier en lecture\n",
    "    \n",
    "    f = open( path, mode, encoding =\"utf-8\") # Ouverture du fichier path avec le mode d'ouverture précisés avant \n",
    "                                             #et avec l'encodage utf-8 affichant tous les caractères \n",
    "   \n",
    "    li = f.readline() #donne à li la première ligne \n",
    "    \n",
    "    while \"\" != li : #condition de sortie de boucle: sort quand la ligne est vide \n",
    "        \n",
    "        li= li.strip()     #enlève les retour à la ligne et les \"\\n\" de chaque ligne\n",
    "        li = li.split(';') #enlève le caractère demandé, soit ';', de la ligne\n",
    "        \n",
    "        tab.append(li[0])  #ajoute le premier element de la chaine de caractère de la ligne dans le tableau à retourner\n",
    "        tab.append(li[1])  #ajoute le deuxième element de la chaine de caractère de la ligne dans le tableau à retourner \n",
    "        \n",
    "\n",
    "        li = f.readline() #donne à li la valeur de la ligne suivante \n",
    "        \n",
    "    f.close() #Fermeture du fichier \n",
    "    \n",
    "    return tab #retourne le tableau final\n",
    "\n",
    "# Définition du chemin vers le fichier\n",
    "path = \"newfiles/Communaute1.csv\"\n",
    "\n",
    "amis_csv = lecture_reseau(path) #Appel de la fonction dans une variable\n",
    "print(amis_csv) #Affiche le tableau amiscsv\n",
    "\n",
    "\n",
    "\n",
    "\n",
    "def test_lecture_reseau (): \n",
    "    \"\"\"Fonction de tests unitaires de la fonction lecture_reseau(path)\"\"\"\n",
    "    \n",
    "    amis_csv = lecture_reseau(path)     #Initialisation d'un tableau amis_csv reprenant le tableau retourné par lecture_reseau(path) pour plus de simplicité\n",
    "    \n",
    "    assert len(amis_csv) > 20           #Valeur retournée à taille_reseau(amis1)\n",
    "    assert len(amis_csv[0][0]) == 1     #Vérification si taille premier élèment du premier élèment est bien de 1 (une lettre)\n",
    "    assert not amis_csv == []           #Vérifie que le tableau retourné n'est pas vide \n",
    "    \n",
    "    print('\\nTests unitaires de lecture_reseau(path) : ok')\n",
    "\n",
    "test_lecture_reseau() #appel de la fonction "
   ]
  },
  {
   "cell_type": "markdown",
   "metadata": {
    "deletable": false,
    "editable": false,
    "run_control": {
     "frozen": true
    }
   },
   "source": [
    "#### Question 4 : Modélisation d'un réseau par un dictionnaire\n",
    "On préfère pour la suite, utiliser une modélisation du réseau social par un dictionnaire dont où les clés sont les prénoms des personnes du réseau et la valeur associé à une clé est le tableau des amis de la personne indiquée par la clé.\n",
    "\n",
    "- A partir d'un tableau `amis` modélisant les interactions entre personnes d'un réseau, écrire une fonction `dico_reseau(amis)` qui retourne un dictionnaire dont les clés sont les prénoms des membres du réseau et les valeurs le tableau de leurs amis."
   ]
  },
  {
   "cell_type": "code",
   "execution_count": 8,
   "metadata": {},
   "outputs": [
    {
     "name": "stdout",
     "output_type": "stream",
     "text": [
      "{'Barbra': ['Cloe', 'Vittorio', 'Marwa', 'Rufino', 'Louis', 'Kirsa', 'Vittore', 'Faizel', 'Mady', 'Olavi'], 'Cloe': ['Barbra', 'Glenys', 'Louis', 'Placide', 'Teodor', 'Björn', 'Vittore', 'Vittorio', 'Mady', 'Idelle'], 'Louis': ['Rufino', 'Cloe', 'Giedrius', 'Placide', 'Vittorio', 'Olavi', 'Barbra', 'Björn', 'Vittore'], 'Rufino': ['Louis', 'Mady', 'Giedrius', 'Placide', 'Björn', 'Barbra', 'Teodor', 'Faizel', 'Illtyd', 'Olavi', 'Vittorio'], 'Idelle': ['Mady', 'Marwa', 'Björn', 'Cloe', 'Illtyd'], 'Mady': ['Idelle', 'Rufino', 'Vittore', 'Jakob', 'Giedrius', 'Barbra', 'Björn', 'Teodor', 'Cloe', 'Vittorio', 'Placide'], 'Björn': ['Giedrius', 'Faizel', 'Cloe', 'Rufino', 'Idelle', 'Mady', 'Teodor', 'Olavi', 'Louis', 'Vittore'], 'Giedrius': ['Björn', 'Rufino', 'Louis', 'Illtyd', 'Mady', 'Glenys', 'Vittorio'], 'Glenys': ['Cloe', 'Giedrius'], 'Vittorio': ['Barbra', 'Kirsa', 'Louis', 'Olavi', 'Placide', 'Cain', 'Cloe', 'Rufino', 'Vittore', 'Mady', 'Giedrius'], 'Marwa': ['Barbra', 'Idelle'], 'Faizel': ['Björn', 'Rufino', 'Barbra', 'Placide', 'Olavi'], 'Vittore': ['Mady', 'Barbra', 'Cloe', 'Kirsa', 'Louis', 'Vittorio', 'Björn'], 'Placide': ['Cloe', 'Rufino', 'Louis', 'Olavi', 'Vittorio', 'Jakob', 'Faizel', 'Cain', 'Mady'], 'Teodor': ['Cloe', 'Rufino', 'Olavi', 'Björn', 'Mady'], 'Kirsa': ['Vittorio', 'Barbra', 'Vittore', 'Jakob'], 'Illtyd': ['Giedrius', 'Rufino', 'Olavi', 'Idelle'], 'Olavi': ['Placide', 'Louis', 'Vittorio', 'Teodor', 'Illtyd', 'Rufino', 'Björn', 'Faizel', 'Barbra'], 'Jakob': ['Mady', 'Placide', 'Kirsa'], 'Cain': ['Vittorio', 'Placide']}\n"
     ]
    }
   ],
   "source": [
    "def create_network (list_of_friend):\n",
    "    \"\"\" dico reseau en diff\"\"\"\n",
    "    i = 0 \n",
    "    friends ={}\n",
    "    \n",
    "    while i < len(list_of_friend):\n",
    "        \n",
    "        couple = list_of_friend[i], list_of_friend[i+1]\n",
    "        \n",
    "        y = 0\n",
    "        z = 1\n",
    "        \n",
    "        while y < 2 :\n",
    "            \n",
    "            if couple[y] in list(friends):\n",
    "                friends[couple[y]].append(couple[z])\n",
    "            else:\n",
    "                tab = [couple[z]]\n",
    "                friends[couple[y]] = tab\n",
    "            \n",
    "            y += 1\n",
    "            z -= 1\n",
    "       \n",
    "        i += 2\n",
    "        \n",
    "    return friends\n",
    "\n",
    "print(create_network(amis_csv))"
   ]
  },
  {
   "cell_type": "code",
   "execution_count": 9,
   "metadata": {},
   "outputs": [
    {
     "name": "stdout",
     "output_type": "stream",
     "text": [
      "{'Barbra': ['Cloe', 'Vittorio', 'Marwa', 'Rufino', 'Louis', 'Kirsa', 'Vittore', 'Faizel', 'Mady', 'Olavi'], 'Cloe': ['Barbra', 'Glenys', 'Louis', 'Placide', 'Teodor', 'Björn', 'Vittore', 'Vittorio', 'Mady', 'Idelle'], 'Louis': ['Rufino', 'Cloe', 'Giedrius', 'Placide', 'Vittorio', 'Olavi', 'Barbra', 'Björn', 'Vittore'], 'Rufino': ['Louis', 'Mady', 'Giedrius', 'Placide', 'Björn', 'Barbra', 'Teodor', 'Faizel', 'Illtyd', 'Olavi', 'Vittorio'], 'Idelle': ['Mady', 'Marwa', 'Björn', 'Cloe', 'Illtyd'], 'Mady': ['Idelle', 'Rufino', 'Vittore', 'Jakob', 'Giedrius', 'Barbra', 'Björn', 'Teodor', 'Cloe', 'Vittorio', 'Placide'], 'Björn': ['Giedrius', 'Faizel', 'Cloe', 'Rufino', 'Idelle', 'Mady', 'Teodor', 'Olavi', 'Louis', 'Vittore'], 'Giedrius': ['Björn', 'Rufino', 'Louis', 'Illtyd', 'Mady', 'Glenys', 'Vittorio'], 'Glenys': ['Cloe', 'Giedrius'], 'Vittorio': ['Barbra', 'Kirsa', 'Louis', 'Olavi', 'Placide', 'Cain', 'Cloe', 'Rufino', 'Vittore', 'Mady', 'Giedrius'], 'Marwa': ['Barbra', 'Idelle'], 'Faizel': ['Björn', 'Rufino', 'Barbra', 'Placide', 'Olavi'], 'Vittore': ['Mady', 'Barbra', 'Cloe', 'Kirsa', 'Louis', 'Vittorio', 'Björn'], 'Placide': ['Cloe', 'Rufino', 'Louis', 'Olavi', 'Vittorio', 'Jakob', 'Faizel', 'Cain', 'Mady'], 'Teodor': ['Cloe', 'Rufino', 'Olavi', 'Björn', 'Mady'], 'Kirsa': ['Vittorio', 'Barbra', 'Vittore', 'Jakob'], 'Illtyd': ['Giedrius', 'Rufino', 'Olavi', 'Idelle'], 'Olavi': ['Placide', 'Louis', 'Vittorio', 'Teodor', 'Illtyd', 'Rufino', 'Björn', 'Faizel', 'Barbra'], 'Jakob': ['Mady', 'Placide', 'Kirsa'], 'Cain': ['Vittorio', 'Placide']}\n",
      "\n",
      "Tests unitaires de la fonction dico_reseau(amis) : ok\n"
     ]
    }
   ],
   "source": [
    "def dico_reseau(amis):\n",
    "    \"\"\"\n",
    "    Cette fonction prend le tableau amis et retient chaque personne distinctes participant à ce réseau social puis \n",
    "    retourne un dictionnaire dont les clés sont les prénoms des membres du réseau et les valeurs, le tableau de leurs amis\n",
    "    On appelle dans cette fonction, la fonction gens_dans_reseau() (question2) mais on pourrait la remplacer avec ceci:\n",
    "    \n",
    "    gens = []\n",
    "    i = 0\n",
    "    while i < len(amis)-1 : \n",
    "        x = amis[i]\n",
    "        if not x in gens:\n",
    "            \n",
    "            gens.append(x)\n",
    "        i += 1\n",
    "        \n",
    "    Ici, on teste tout le tableau amis pour un prénom, et on recommence avec la personne suivante.       \n",
    "     \"\"\"\n",
    "    gens = gens_dans_reseau(amis) #Tableau de toutes les personnes distinctes participant à ce réseau social\n",
    "    dico_reseau = {}              #Initialisation du dictionnaire retourné à la fin\n",
    "    \n",
    "    y=0                           #Initialisation du compteur de tours\n",
    "    while y < len(gens) :    #Boucle de condition pour survoler toutes les personnes distinctes participant à ce réseau social\n",
    "        \n",
    "        t = []                    #Initialisation du tableau de valeurs de chaque clé \n",
    "        i = 0                     #Initialisation du second compteur de tours\n",
    "        while i < len(amis) // 2 :   #Boucle de condition pour tester tout le tableau amis\n",
    "            \n",
    "            #Condition pour savoir si le prénom cherché est dans l'interraction des deux amis 2i et 2i+1\n",
    "            if amis[2*i] == gens[y] or amis[2*i +1] == gens[y] :\n",
    "            \n",
    "                #Si le prenom est amis[2i] alors son amis est amis[2i+1]\n",
    "                if amis[2*i] == gens[y]:\n",
    "                    t.append(amis[2*i +1]) #Ajout son amis dans le tableau temporaire, des valeurs du prénom gens[y]\n",
    "            \n",
    "                #Si le prenom est amis[2i+1] alors son amis est amis[2i]    \n",
    "                else :\n",
    "                    t.append(amis[2*i])    #Ajout son amis dans le tableau temporaire, des valeurs du prénom gens[y]\n",
    "            \n",
    "            i += 1 #Ajout d'1 au compteur secondaire de boucle pour avancer\n",
    "            \n",
    "        dico_reseau[gens[y]] = t #Ajout du tableau, des amis du prénom gens[y], en tant que valeur de la clé gens[y]\n",
    "        y += 1     #Ajout d'1 au compteur de boucle pour passer au prénom suivant \n",
    "             \n",
    "    return dico_reseau #retourne le dictionnaire\n",
    "        \n",
    "print(dico_reseau(amis_csv)) #affiche la fonction appelée\n",
    "\n",
    "\n",
    "\n",
    "\n",
    "def test_dico_reseau() :\n",
    "    \"\"\"Fonction de tests unitaires de la fonction dico_reseau(amis)\"\"\"\n",
    "    \n",
    "    #Pour p_amis \n",
    "    dico = dico_reseau(p_amis)\n",
    "    assert not len(dico_reseau(p_amis)) > taille_reseau(p_amis)\n",
    "    assert dico['Carole'] == ['Thomas']\n",
    "    assert not dico['Joël'] == [\"\"]\n",
    "    \n",
    "    #Pour amis1\n",
    "    dico = dico_reseau(amis1)\n",
    "    assert not len(dico_reseau(p_amis)) < taille_reseau(p_amis)\n",
    "    assert dico[\"Illtyd\"] == ['Giedrius', 'Rufino', 'Olavi', 'Idelle']\n",
    "    assert not dico['Teodor'] == ['Cloe', 'Rufino', 'Olavi', 'Björn', 'Mady', 'Teodor']\n",
    "    \n",
    "    #Pour amis2\n",
    "    dico = dico_reseau(amis2)\n",
    "    assert len(dico_reseau(p_amis)) == taille_reseau(p_amis)\n",
    "    assert dico['Louis'] == ['Barbra', 'Cloe', 'Placide', 'Aimee', 'Illtyd', 'Petru', 'Évike', 'Jakob', 'Naheed', 'Pavao']\n",
    "    assert not dico['Mady'] == ['Mady', 'Aliya', 'Glenys', 'Iagan', 'Chatzkel', 'Nazim']\n",
    "    \n",
    "    print('\\nTests unitaires de la fonction dico_reseau(amis) : ok')\n",
    "    \n",
    "test_dico_reseau() #appel de la fonction "
   ]
  },
  {
   "cell_type": "markdown",
   "metadata": {
    "deletable": false,
    "editable": false,
    "run_control": {
     "frozen": true
    }
   },
   "source": [
    "#### Question 5 : Nombre d'amis des personnes les plus populaires\n",
    "\n",
    "- A partir d'un dictionnaire `dico_reseau` modélisant les interactions dans un réseau d'amis, écrire une fonction `nb_amis_plus_pop (dico_reseau)` qui retourne le nombre d'amis des personnes les plus populaires du réseau."
   ]
  },
  {
   "cell_type": "code",
   "execution_count": 10,
   "metadata": {},
   "outputs": [
    {
     "name": "stdout",
     "output_type": "stream",
     "text": [
      "{'Barbra': 10, 'Cloe': 10, 'Louis': 9, 'Rufino': 11, 'Idelle': 5, 'Mady': 11, 'Björn': 10, 'Giedrius': 7, 'Glenys': 2, 'Vittorio': 11, 'Marwa': 2, 'Faizel': 5, 'Vittore': 7, 'Placide': 9, 'Teodor': 5, 'Kirsa': 4, 'Illtyd': 4, 'Olavi': 9, 'Jakob': 3, 'Cain': 2}\n",
      "\n",
      "Tests unitaires de la fonction nb_amis(dico_reseau) : ok\n"
     ]
    }
   ],
   "source": [
    "def nb_amis(dico_reseau): \n",
    "    \"\"\"Cette fonction sera utile pour les deux prochaines questions.\n",
    "    Elle retourne un dictionnaire dont les valeurs sont le nombre d'éléments des valeurs dans dico_reseau, \n",
    "    c'est à dire que les valeurs sont les nombres d'amis des clés \"\"\"\n",
    "    \n",
    "    clés = list(dico_reseau)               #Tableau de toutes les clés de dico_reseau\n",
    "    valeurs = list(dico_reseau.values())   #Tableau de toutes les valeurs de dico_reseau \n",
    "    \n",
    "    dico = {} #initialisation d'un nouveau dictionnaire rétourné à a fin \n",
    "    i = 0     #initialisation d'un compteur de boucle \n",
    "    while i < len(dico_reseau): #condition de survole de dico_reseau\n",
    "        \n",
    "        compteur_amis = 0 #initalisation d'un compteur d'amis temporaire \n",
    "        while compteur_amis < len(valeurs[i]): #condition de survole des éléments de valeurs[i] \n",
    "            compteur_amis += 1 #ajout 1 au compteur pour chaque élément de valeur[i] \n",
    "        dico[clés[i]] = compteur_amis #ajout du nombre d'amis de la clé[i]\n",
    "        \n",
    "        i += 1 #avancement dans la boucle, condition de sortie \n",
    "    \n",
    "    return dico #retourne le dictionnaire d'amis mais pour valeur les nombres d'amis respectifs\n",
    "\n",
    "print(nb_amis(dico_reseau(amis1))) #affiche la fonction appelée\n",
    "\n",
    "\n",
    "\n",
    "\n",
    "def test_nb_amis():\n",
    "    \"\"\"Fonction de tests unitaires de la fonction nb_amis(dico_reseau)\"\"\"\n",
    "    #Pour p_amis\n",
    "    nb = nb_amis(dico_reseau(p_amis))\n",
    "    assert len(nb) == len(dico_reseau(p_amis))\n",
    "    assert not nb['Joël'] == 0\n",
    "    \n",
    "    #Pour amis1\n",
    "    nb = nb_amis(dico_reseau(amis1))\n",
    "    assert not len(nb) < len(dico_reseau(amis1))\n",
    "    assert nb['Mady'] == 11\n",
    "    \n",
    "    #Pour amis2\n",
    "    nb = nb_amis(dico_reseau(amis2))\n",
    "    assert not len(nb) > len(dico_reseau(amis2))\n",
    "    assert nb['Mady'] == 15\n",
    "    \n",
    "    print('\\nTests unitaires de la fonction nb_amis(dico_reseau) : ok')\n",
    "    \n",
    "test_nb_amis() #appel de la fonction "
   ]
  },
  {
   "cell_type": "code",
   "execution_count": 11,
   "metadata": {},
   "outputs": [
    {
     "name": "stdout",
     "output_type": "stream",
     "text": [
      "11\n",
      "\n",
      "Tests unitaires de la fonction nb_amis_plus_pop(dico_reseau) : ok\n"
     ]
    }
   ],
   "source": [
    "def nb_amis_plus_pop (dico_reseau):\n",
    "    \"\"\"Cette fonction retourne le nombre d'amis des personnes les plus populaires du réseau, \n",
    "    à partir d'un dictionnaire dico_reseau modélisant les interactions dans un réseau d'amis\n",
    "    Cette fonction prend toutes les valeurs de dico_reseau, compare leur taille et retourne le chiffre le plus élevé.\"\"\"\n",
    "    \n",
    "    valeurs = list(nb_amis(dico_reseau).values()) #creation d'un tableau de toutes les valeurs de nb_amis, soit les nombres des amis\n",
    "    return (max(valeurs)) #retourne la valeur maximal des nombres d'amis des prénoms\n",
    "\n",
    "print(nb_amis_plus_pop(dico_reseau(amis1))) #affiche la fontion appelée\n",
    "\n",
    "\n",
    "\n",
    "\n",
    "def test_nb_amis_plus_pop():\n",
    "    \"\"\"Fonction de tests unitaires de la fonction nb_amis_plus_pop(dico_reseau)\"\"\"\n",
    "    #Pour p_amis\n",
    "    nb_plus_pop  = nb_amis_plus_pop(dico_reseau(p_amis))\n",
    "    assert nb_plus_pop  == 5\n",
    "    assert not nb_plus_pop  == \"\"\n",
    "    \n",
    "    #Pour amis1\n",
    "    nb_plus_pop  = nb_amis_plus_pop(dico_reseau(amis1))\n",
    "    assert nb_plus_pop  == 11 \n",
    "    assert not nb_plus_pop  > taille_reseau(amis1)\n",
    "    \n",
    "    #pour amis2\n",
    "    nb_plus_pop = nb_amis_plus_pop(dico_reseau(amis2))\n",
    "    assert nb_plus_pop  == 19\n",
    "    assert nb_plus_pop  < taille_reseau(amis2)\n",
    "    \n",
    "    print('\\nTests unitaires de la fonction nb_amis_plus_pop(dico_reseau) : ok')\n",
    "    \n",
    "test_nb_amis_plus_pop() #appel de la fonction "
   ]
  },
  {
   "cell_type": "markdown",
   "metadata": {
    "deletable": false,
    "editable": false,
    "run_control": {
     "frozen": true
    }
   },
   "source": [
    "#### Question 6 : Personnes les plus populaires\n",
    "\n",
    "- A partir d'un dictionnaire `dico_reseau` modélisant les interactions dans un réseau d'amis, écrire une fonction `les_plus_pop (dico_reseau)` qui retourne un tableau contenant les prénoms de toutes les personnes les plus populaires du réseau."
   ]
  },
  {
   "cell_type": "code",
   "execution_count": 12,
   "metadata": {},
   "outputs": [
    {
     "name": "stdout",
     "output_type": "stream",
     "text": [
      "['Rufino', 'Mady', 'Vittorio']\n",
      "\n",
      "Tests unitaires de la fonction les_plus_pop(dico_reseau) : ok\n"
     ]
    }
   ],
   "source": [
    "def les_plus_pop (dico_reseau) :\n",
    "    \"\"\"Cette fonction retourne un tableau contenant les prénoms de toutes les personnes les plus populaires du réseau,\n",
    "    à partir d'un dictionnaire dico_reseau modélisant les interactions dans un réseau d'amis.\n",
    "    Elle verfifie pour chaque valeur si elle est égal au nombre maximal d'amis trouvé avec nb_amis_plus_pop(dico_reseau)\n",
    "    et ajoute les clés correspondantes aux valeurs max, dans un tableau retourné à la fin.\"\"\"\n",
    "    \n",
    "    #Rappel des fonctions précédentes utiles \n",
    "    nb_plus_pop = nb_amis_plus_pop(dico_reseau)\n",
    "    nb = nb_amis(dico_reseau) \n",
    "    \n",
    "    clés = list(nb)              #tableau des clés de la fonction nb_amis(dico_reseau)\n",
    "    valeurs = list(nb.values())  #tableau des valeurs de la fonction nb_amis(dico_reseau)\n",
    "    \n",
    "    tab = []  #initialisation du tableau retourné à la fin\n",
    "    i = 0     #initialisation du compteur de boucle\n",
    "    while i < len(nb):  #condition pour rester dans le tableau nb et le parcourir \n",
    "    \n",
    "        if valeurs[i] == nb_plus_pop : #condition pour verifier qui a le plus d'amis\n",
    "            tab.append(clés[i])        #ajout, dans le tableau retourné, les personnes ayant le plus d'amis \n",
    "        \n",
    "        i += 1 #avancement dans la boucle, condition de sortie \n",
    "\n",
    "    return tab #retourne le tableau des prénoms ayant le plus d'amis\n",
    "\n",
    "print(les_plus_pop(dico_reseau(amis1))) #affiche la fonction appelée\n",
    "\n",
    "\n",
    "\n",
    "\n",
    "def test_les_plus_pop():\n",
    "    \"\"\"Fonction de tests unitaires de la fonction les_plus_pop(dico_reseau)\"\"\"\n",
    "    #Pour p_amis\n",
    "    plus_pop = les_plus_pop(dico_reseau(p_amis))\n",
    "    assert plus_pop == ['Joël']\n",
    "    assert not plus_pop == []\n",
    "    \n",
    "    #Pour amis1\n",
    "    plus_pop = les_plus_pop(dico_reseau(amis1))\n",
    "    assert plus_pop == ['Rufino', 'Mady', 'Vittorio'] \n",
    "    assert plus_pop[0] in dico_reseau(amis1)\n",
    "    \n",
    "    #pour amis2\n",
    "    plus_pop = les_plus_pop(dico_reseau(amis2))\n",
    "    assert plus_pop == ['Dragan', 'Séléna']\n",
    "    assert not plus_pop == dico_reseau(amis2)\n",
    "    \n",
    "    print('\\nTests unitaires de la fonction les_plus_pop(dico_reseau) : ok')\n",
    "    \n",
    "test_les_plus_pop() #appel de la fonction "
   ]
  },
  {
   "cell_type": "code",
   "execution_count": null,
   "metadata": {},
   "outputs": [],
   "source": []
  },
  {
   "cell_type": "code",
   "execution_count": null,
   "metadata": {},
   "outputs": [],
   "source": []
  }
 ],
 "metadata": {
  "kernelspec": {
   "display_name": "Python 3 (ipykernel)",
   "language": "python",
   "name": "python3"
  },
  "language_info": {
   "codemirror_mode": {
    "name": "ipython",
    "version": 3
   },
   "file_extension": ".py",
   "mimetype": "text/x-python",
   "name": "python",
   "nbconvert_exporter": "python",
   "pygments_lexer": "ipython3",
   "version": "3.9.12"
  },
  "latex_envs": {
   "LaTeX_envs_menu_present": true,
   "autoclose": false,
   "autocomplete": true,
   "bibliofile": "biblio.bib",
   "cite_by": "apalike",
   "current_citInitial": 1,
   "eqLabelWithNumbers": true,
   "eqNumInitial": 1,
   "hotkeys": {
    "equation": "Ctrl-E",
    "itemize": "Ctrl-I"
   },
   "labels_anchors": false,
   "latex_user_defs": false,
   "report_style_numbering": false,
   "user_envs_cfg": false
  }
 },
 "nbformat": 4,
 "nbformat_minor": 2
}
