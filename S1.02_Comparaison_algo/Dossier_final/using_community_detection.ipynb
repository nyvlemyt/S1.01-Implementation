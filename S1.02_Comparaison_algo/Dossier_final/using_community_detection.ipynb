{
 "cells": [
  {
   "cell_type": "code",
   "execution_count": null,
   "metadata": {},
   "outputs": [],
   "source": [
    "from community_detection import * \n",
    " \n",
    "#This cell imports 4 old functions useful for the following algorithm comparison \n",
    "def lecture_reseau(path):\n",
    "    \"\"\" \n",
    "    Cette fonction prend en paramètre le chemin vers un fichier CSV et en retourne un \n",
    "    tableau modélisant les interactions entre les personnes du fichier.\n",
    "    La fonction créé un tableau de cette façon:\n",
    "    \n",
    "    en respectant la regle d'interration donnée au départ :  \n",
    "    tel que amis[2*i] a des interactions avec amis[2*i+1]\n",
    "    \"\"\"\n",
    "    \n",
    "    tab = [] #Création d'un tableau à retourner  \n",
    "    \n",
    "    mode  ='r' # Définition du mode d'ouverture du fichier en lecture\n",
    "    \n",
    "    f = open( path, mode, encoding =\"utf-8\") # Ouverture du fichier path avec le mode d'ouverture précisés avant \n",
    "                                             #et avec l'encodage utf-8 affichant tous les caractères \n",
    "   \n",
    "    li = f.readline() #donne à li la première ligne \n",
    "    \n",
    "    while \"\" != li : #condition de sortie de boucle: sort quand la ligne est vide \n",
    "        \n",
    "        li= li.strip()     #enlève les retour à la ligne et les \"\\n\" de chaque ligne\n",
    "        li = li.split(';') #enlève le caractère demandé, soit ';', de la ligne\n",
    "        \n",
    "        tab.append(li[0])  #ajoute le premier element de la chaine de caractère de la ligne dans le tableau à retourner\n",
    "        tab.append(li[1])  #ajoute le deuxième element de la chaine de caractère de la ligne dans le tableau à retourner \n",
    "        \n",
    "\n",
    "        li = f.readline() #donne à li la valeur de la ligne suivante \n",
    "        \n",
    "    f.close() #Fermeture du fichier \n",
    "    \n",
    "    return tab #retourne le tableau final\n",
    "\n",
    "path = \"/newfiles/Communaute1.csv \"\n",
    "\n",
    "\n",
    "amis_csv = lecture_reseau(path) #Appel de la fonction dans une variable\n",
    "\n",
    "def liste_amis(amis, prenom):\n",
    "    \"\"\"\n",
    "        Retourne la liste des amis de prenom en fonction du tableau amis.\n",
    "    \"\"\"\n",
    "    prenoms_amis = []\n",
    "    i = 0\n",
    "    while i < len(amis)//2:\n",
    "        if amis[2 * i] == prenom:\n",
    "            prenoms_amis.append(amis[2*i+1])\n",
    "        elif amis[2*i+1] == prenom:\n",
    "            prenoms_amis.append(amis[2*i])\n",
    "        i += 1\n",
    "    return prenoms_amis\n",
    "\n",
    "def personnes_reseau(amis):\n",
    "    \"\"\" Retourne un tableau contenant la liste des personnes du réseau.\"\"\"\n",
    "    people = []\n",
    "    i = 0\n",
    "    while i < len(amis):\n",
    "        if amis[i] not in people:\n",
    "            people.append(amis[i])\n",
    "        i += 1\n",
    "    return people\n",
    "\n",
    "def dico_reseau(amis):\n",
    "    \"\"\" Retourne le dictionnaire correspondant au réseau.\"\"\"\n",
    "    dico = {}\n",
    "    people = personnes_reseau(amis)\n",
    "    i = 0\n",
    "    while i < len(people):\n",
    "        dico[people[i]] = liste_amis(amis, people[i])\n",
    "        i += 1\n",
    "    return dico\n"
   ]
  },
  {
   "cell_type": "code",
   "execution_count": null,
   "metadata": {},
   "outputs": [
    {
     "name": "stdout",
     "output_type": "stream",
     "text": [
      "Time of dico_reseau :  0.0 ms\n",
      "Time of create_network :  0.0 ms\n",
      "The difference in execution time is : 0.0 ms\n"
     ]
    }
   ],
   "source": [
    "from time import *\n",
    "\n",
    "def time_execut (fonction) :\n",
    "    \"This function is used to measure the execution time of a program\"\n",
    "    tic = time ()\n",
    "    fonction\n",
    "    tac = time()\n",
    "    return round(1000*(tac-tic), 2)\n",
    "\n",
    "def compare_time (time1, time2):\n",
    "    \"This function is used to compare 2 execution times \"\n",
    "    if time1 > time2 :\n",
    "        print('The difference in execution time is :', time1-time2,'ms')\n",
    "    else :\n",
    "        print('The difference in execution time is :', time2-time1,'ms')"
   ]
  },
  {
   "cell_type": "code",
   "execution_count": null,
   "metadata": {},
   "outputs": [],
   "source": [
    "#Question 2: \n",
    "###############################################################################################################\n",
    "#  comparaison théorique de dico_reseau et create_network :                                                   #\n",
    "#                                                                                                             #\n",
    "#  create_network a une boucle O(n) et une boucle O(2) imbriqué donc cette fonction est linéaire avec O(2n).  #\n",
    "#  dico_reseau fait appel a une fonction #personne_reseau de O(n) puis fait appel a une autre fonction        #\n",
    "#  #liste_amis, de O(n), dans une boucle donc cette fonction est quadratique de O(n)+O(n**2)                  #\n",
    "###############################################################################################################\n",
    "    \n",
    "#comparaison expérimental des deux fonctions :\n",
    "a = time_execut(dico_reseau(amis_csv))\n",
    "b = time_execut(create_network(amis_csv))\n",
    "print('Time of dico_reseau : ', a, 'ms')\n",
    "print('Time of create_network : ', b, 'ms')\n",
    "compare_time(a,b)\n",
    "\n",
    "network1 = create_network(friends)"
   ]
  },
  {
   "cell_type": "code",
   "execution_count": null,
   "metadata": {},
   "outputs": [
    {
     "name": "stdout",
     "output_type": "stream",
     "text": [
      "Time of dico_reseau :  0.0 ms\n",
      "Time of create_network :  0.0 ms\n",
      "The difference in execution time is : 0.0 ms\n"
     ]
    }
   ],
   "source": [
    "#Question 11: \n",
    "###############################################################################################################\n",
    "#                                                                                                             #\n",
    "#  comparaison théorique de find_community_from_person et find_community_by_decreasing_popularity :           #\n",
    "#                                                                                                             #\n",
    "#  #find_community_from_person fait appel a la fonction #order_by_decreasing_popularity qui appelle la        #  \n",
    "#  fonction #friends_number_of_people qui est linéaire pour complexité 3*O(n) puis execute une boucle O(n).   #\n",
    "#  Ensuite on a une boucle imbriqué avrc la fonction #all_his_friends qui est de O(n).                        #\n",
    "#  #find_community_from_person est donc quadratique de 4*O(n) + O(n**2)                                       #\n",
    "#                                                                                                             #\n",
    "#  find_community_by_decreasing_popularity retourne la fonction #find_community qui a pour paramètre la       #\n",
    "#  liste de la fonction #friends_number_of_people. Dans #find_community on appel #friends_number_of_people    #\n",
    "#  une fois puis on a une boucle imbriquée d'une fonction #all_his_friends donc on a une complexité           #\n",
    "#  quadratique de 3*O(n) + O(n**2).                                                                           #\n",
    "#                                                                                                             #\n",
    "#  Au final find_community_from_person est quadratique avec 4*O(n) + O(n**2) et                               #\n",
    "#  find_community_by_decreasing_popularity est quadratique avec 3*O(n) + O(n**2)                              #\n",
    "###############################################################################################################\n",
    "    \n",
    "#comparaison expérimentale des deux fonctions :\n",
    "a = time_execut(find_community_from_person (network1, find_community_by_decreasing_popularity (network1)[0]))\n",
    "b = time_execut(find_community_by_decreasing_popularity (network1))\n",
    "print('Time of dico_reseau : ', a, 'ms')\n",
    "print('Time of create_network : ', b, 'ms')\n",
    "compare_time(a,b)"
   ]
  }
 ],
 "metadata": {
  "kernelspec": {
   "display_name": "Python 3",
   "language": "python",
   "name": "python3"
  },
  "language_info": {
   "codemirror_mode": {
    "name": "ipython",
    "version": 3
   },
   "file_extension": ".py",
   "mimetype": "text/x-python",
   "name": "python",
   "nbconvert_exporter": "python",
   "pygments_lexer": "ipython3",
   "version": "3.10.9 (tags/v3.10.9:1dd9be6, Dec  6 2022, 20:01:21) [MSC v.1934 64 bit (AMD64)]"
  },
  "orig_nbformat": 4,
  "vscode": {
   "interpreter": {
    "hash": "a083d02f103c5c268dd75f3403e3aa7b735042ca95b5b80db01e4ab67254fdbe"
   }
  }
 },
 "nbformat": 4,
 "nbformat_minor": 2
}
