{
 "cells": [
  {
   "cell_type": "code",
   "execution_count": 40,
   "metadata": {},
   "outputs": [],
   "source": [
    "friends = [\"Alice\",\"Bob\",\"Bob\",\"Charlie\",\"Alice\",\"Dominique\",\"Bob\",\"Dominique\"]"
   ]
  },
  {
   "cell_type": "code",
   "execution_count": 41,
   "metadata": {},
   "outputs": [
    {
     "name": "stdout",
     "output_type": "stream",
     "text": [
      "{'Alice': ['Bob', 'Dominique'], 'Bob': ['Alice', 'Charlie', 'Dominique'], 'Charlie': ['Bob'], 'Dominique': ['Alice', 'Bob']}\n",
      "\n",
      "Unit tests of the function create_network : ok\n"
     ]
    }
   ],
   "source": [
    "def create_network (list_of_friend):\n",
    "    \"\"\" It is the same of dico_reseau but here, we use an other technique. \n",
    "    It takes as parameter an array of pairs of friends and returns the associated network.\"\"\"\n",
    "    i = 0 \n",
    "    net = {}\n",
    "    while i < len(list_of_friend):\n",
    "        couple = list_of_friend[i], list_of_friend[i+1] #to keep the good personnes.\n",
    "        y = 0\n",
    "        z = 1\n",
    "        while y < 2 :\n",
    "            if couple[y] in list(net) :\n",
    "                net[couple[y]].append(couple[z]) #if one is already in the dictionary, it adds the other in its values\n",
    "            else:\n",
    "                tab = [couple[z]] #creation of a table for the values\n",
    "                net[couple[y]] = tab #adds the table as a value to the other person\n",
    "            \n",
    "            y += 1\n",
    "            z -= 1\n",
    "       \n",
    "        i += 2\n",
    "        \n",
    "    return net\n",
    "\n",
    "network1 = create_network(friends)\n",
    "print(network1)\n",
    "\n",
    "def test_create_network() :\n",
    "    \"\"\"Unit test function of the create_network function\"\"\"\n",
    "    \n",
    "    dic = create_network(friends)\n",
    "    assert len(list(dic)) < len(friends)\n",
    "    i = 0\n",
    "    while i <len(list(dic.values())) : \n",
    "        y = 0\n",
    "        while y < len(list(dic.values())[i]) :\n",
    "            assert len(list(dic.values())[i][y]) > 0\n",
    "            y += 1\n",
    "        i += 1\n",
    "    \n",
    "    print('\\nUnit tests of the function create_network : ok')\n",
    "\n",
    "test_create_network()"
   ]
  },
  {
   "cell_type": "code",
   "execution_count": 42,
   "metadata": {},
   "outputs": [
    {
     "name": "stdout",
     "output_type": "stream",
     "text": [
      "['Alice', 'Bob', 'Charlie', 'Dominique']\n"
     ]
    }
   ],
   "source": [
    "def get_people (network) :\n",
    "    \"\"\"This function takes a network as parameter and returns the list of people in this network in an array.\"\"\"\n",
    "    return list(network) \n",
    "\n",
    "print(get_people(network1))\n",
    "\n",
    "def test_get_people():\n",
    "    \"\"\"Unit test function of the get_people function\"\"\"\n",
    "    dic = create_network(friends)\n",
    "    assert get_people(dic) == [\"Alice\", \"Bob\", \"Charlie\", \"Dominique\"]\n",
    "    print('\\nUnit tests of the function get_people : ok')"
   ]
  },
  {
   "cell_type": "code",
   "execution_count": 43,
   "metadata": {},
   "outputs": [
    {
     "name": "stdout",
     "output_type": "stream",
     "text": [
      "True\n"
     ]
    }
   ],
   "source": [
    "def are_friend (network, first_people, second_people):\n",
    "    \"\"\"This function takes as parameters a network and two people. \n",
    "    The function should return True if the two people are friends, and False otherwise.\"\"\"\n",
    "    return second_people in network[first_people]\n",
    " \n",
    "print(are_friend(network1 ,\"Alice\",\"Dominique\"))\n",
    "\n",
    "def test_are_friend():\n",
    "    \"\"\"Unit test function of the are_friend function\"\"\"\n",
    "    dic = create_network(friends)\n",
    "    assert are_friend(dic ,\"Alice\",\"Bob\") == True \n",
    "    assert are_friend(dic ,\"Alice\",\"Charlie\") == False\n",
    "    print('\\nUnit tests of the function are_friend : ok')"
   ]
  },
  {
   "cell_type": "code",
   "execution_count": 44,
   "metadata": {},
   "outputs": [
    {
     "name": "stdout",
     "output_type": "stream",
     "text": [
      "False\n"
     ]
    }
   ],
   "source": [
    "def all_his_friends (network, people, group):\n",
    "    \"\"\"This function takes as parameters network, a person and a group of people and returns True \n",
    "    if the person is friendly with all the people of the group, and False otherwise.\"\"\"\n",
    "    if people not in network :\n",
    "        return False #returns false if the person is not in the network \n",
    "    \n",
    "    friend_people = network[people] #sort the person's friends\n",
    "    i = 0\n",
    "    while i < len(group):\n",
    "        if group[i] not in friend_people :\n",
    "            return False #returns false if person i in group is not in friend_people\n",
    "        i+=1\n",
    "    return True  \n",
    "\n",
    "\n",
    "print(all_his_friends(network1 ,\"Barbra\", ['Cloe','Louis']))\n",
    "\n",
    "def test_all_his_friends():\n",
    "    \"\"\"Unit test function of the all_his_friends function\"\"\"\n",
    "    dic = create_network(friends)\n",
    "    assert all_his_friends(dic, \"Alice\", [\"Bob\", \"Dominique\"]) == True \n",
    "    assert all_his_friends(dic, \"Alice\", [\"Bob\", \"Charlie\"]) == False \n",
    "    print('\\nUnit tests of the function all_his_friends : ok')"
   ]
  },
  {
   "cell_type": "code",
   "execution_count": 45,
   "metadata": {},
   "outputs": [
    {
     "name": "stdout",
     "output_type": "stream",
     "text": [
      "True\n"
     ]
    }
   ],
   "source": [
    "def is_a_community (network, peoples_group):\n",
    "    \"\"\"This function takes as parameters a dictionary modeling the network and a group of people (array of people) \n",
    "    and returns True if this group is a community, and False otherwise.\"\"\"\n",
    "    i = 0\n",
    "    while i < len(peoples_group):\n",
    "        people = peoples_group[i] #take a person from the group to do some tests\n",
    "        if people not in network:\n",
    "            return False #returns False if the person is not in the network \n",
    "        y = i + 1 #initializing a counter testing all people after \"people\"\n",
    "        while y < len(peoples_group) :\n",
    "            if not peoples_group[y] in network[people]: \n",
    "                return False #check if the people in the group are in the \"people\" friends list\n",
    "            y += 1\n",
    "        i += 1\n",
    "    return True \n",
    "\n",
    "print(is_a_community(network1 , [\"Dominique\", \"Bob\", \"Alice\"]))\n",
    "\n",
    "def test_is_a_community():\n",
    "    \"\"\"Unit test function of the is_a_community function\"\"\"\n",
    "    dic = create_network(friends)\n",
    "    assert is_a_community(dic, [\"Alice\", \"Bob\", \"Dominique\"]) == True \n",
    "    assert is_a_community(dic, [\"Alice\", \"Bob\", \"Charlie\"]) == False \n",
    "    print('\\nUnit tests of the function is_a_community : ok')"
   ]
  },
  {
   "cell_type": "code",
   "execution_count": 55,
   "metadata": {},
   "outputs": [
    {
     "name": "stdout",
     "output_type": "stream",
     "text": [
      "['Charlie']\n"
     ]
    }
   ],
   "source": [
    "def find_community (network, group):\n",
    "    \"\"\"This function takes a network and a group of people as parameters \n",
    "    and returns a community according to the heuristic described above. \n",
    "    The order of the people will be given by the order of the people in the table corresponding to the group.\n",
    "    To find a maximum community in a network, we start from an empty community and consider the people one after the other. \n",
    "    For each person, if this one is friendly with all the members of the community already created, \n",
    "    then we add it to the community.\"\"\"\n",
    "    \n",
    "    new_group = group.copy()\n",
    "    commu = [] \n",
    "    commu.append(new_group[0]) #add the 1st person of the group\n",
    "    i = 1\n",
    "    while i < len(group):\n",
    "        if all_his_friends(network, new_group[i], commu ) == True: #test if the person in the group is friends with the whole community\n",
    "            commu.append(new_group[i])\n",
    "        i+=1\n",
    "    return commu\n",
    "\n",
    "\n",
    "print(find_community(network1 , [\"Charlie\", \"Alice\", \"Dominique\"] ))"
   ]
  },
  {
   "cell_type": "code",
   "execution_count": 47,
   "metadata": {},
   "outputs": [
    {
     "name": "stdout",
     "output_type": "stream",
     "text": [
      "{'Bob': 3, 'Dominique': 2, 'Alice': 2, 'Charlie': 1}\n"
     ]
    }
   ],
   "source": [
    "def friends_number_of_people (network):\n",
    "    \"\"\"This function returns a dictionary of people classified by their number of friends and takes as parameter a network.\"\"\"\n",
    "    people = list(network) #retrieves the list of people\n",
    "    friends = list(network.values()) #get the friends from the list of people\n",
    "    net = network.copy() #copy the network to not modify it \n",
    "    \n",
    "    i=0\n",
    "    while i< len(people):\n",
    "        net[people[i]] = len(friends[i]) #gives as value the number of friends\n",
    "        i += 1\n",
    "    \n",
    "    numbers = list(net.values()) #sort these numbers\n",
    "    numbers.sort() #sort the list of numbers\n",
    "    numbers.reverse() #puts the list in descending order\n",
    "    \n",
    "    new_people = [] \n",
    "    i = 0\n",
    "    while i < len(people):\n",
    "        place = numbers.index(net[people[i]]) #know the position of the number of friends of a person in the list of numbers\n",
    "        new_people.insert(place,people[i]) #Put this person in the same position in new_people\n",
    "        i += 1\n",
    "        \n",
    "    i = 0\n",
    "    new_network = {}\n",
    "    while i < len(people):\n",
    "        new_network[new_people[i]] = numbers[i] #add in new dictionary each person and his value\n",
    "        i += 1\n",
    "    \n",
    "    \n",
    "    return new_network\n",
    "\n",
    "  \n",
    "print(friends_number_of_people(network1))"
   ]
  },
  {
   "cell_type": "code",
   "execution_count": 57,
   "metadata": {},
   "outputs": [
    {
     "name": "stdout",
     "output_type": "stream",
     "text": [
      "['Bob', 'Alice', 'Charlie']\n",
      "\n",
      "Unit tests of the function order_by_decreasing_popularity : ok\n"
     ]
    }
   ],
   "source": [
    "def order_by_decreasing_popularity (network, people_group) :\n",
    "    \"\"\"This function takes a network and a group of people as parameters and \n",
    "    sorts the group of people by decreasing popularity (number of friends).\"\"\"\n",
    "    list_network = list(friends_number_of_people(network)) #sort network keys in descending order\n",
    "\n",
    "    i = 0\n",
    "    pop= []\n",
    "    while i < len(list_network):\n",
    "        if list_network[i] in people_group: #test if a person of the network is in the tested group \n",
    "            pop.append(list_network[i])\n",
    "        i +=1\n",
    "    return pop \n",
    "\n",
    "\n",
    "print(order_by_decreasing_popularity(network1, [\"Alice\", \"Bob\", \"Charlie\"] ))\n",
    "    \n",
    "def test_order_by_decreasing_popularity():\n",
    "    assert order_by_decreasing_popularity(network1, [\"Dominique\", \"Alice\", \"Bob\"])== ['Bob', 'Dominique', 'Alice']\n",
    "    assert order_by_decreasing_popularity(network1, [\"Charlie\", \"Dominique\", \"Bob\"])== ['Bob', 'Dominique', 'Charlie']\n",
    "    assert order_by_decreasing_popularity(network1, [\"Bob\", \"Alice\", \"Charlie\"])== ['Bob', 'Alice', 'Charlie'] \n",
    "    assert order_by_decreasing_popularity(network1, [\"Bob\", \"Alice\", \"Charlie\", 'Dominique'])== ['Bob', 'Dominique','Alice', 'Charlie']\n",
    "\n",
    "\n",
    "    print('\\nUnit tests of the function order_by_decreasing_popularity : ok')\n",
    "test_order_by_decreasing_popularity()"
   ]
  },
  {
   "cell_type": "code",
   "execution_count": 58,
   "metadata": {},
   "outputs": [
    {
     "name": "stdout",
     "output_type": "stream",
     "text": [
      "['Bob', 'Dominique', 'Alice']\n",
      "\n",
      "Unit tests of the function find_community_by_decreasing_popularity : ok\n"
     ]
    }
   ],
   "source": [
    "def find_community_by_decreasing_popularity (network): \n",
    "    \"\"\"This function takes a network as parameter. \n",
    "    The function must sort the set of people in the network according to the decreasing order of popularity \n",
    "    and then return the community found by applying the maximum community construction heuristic explained above.\"\"\"\n",
    "    return find_community (network, list(friends_number_of_people(network)))\n",
    "    \n",
    "\n",
    "print(find_community_by_decreasing_popularity (network1))\n",
    "\n",
    "def test_find_community_by_decreasing_popularity():\n",
    "    assert find_community_by_decreasing_popularity(network1)== ['Bob', 'Dominique', 'Alice']\n",
    "    assert not find_community_by_decreasing_popularity(network1)== ['Charlie', 'Dominique', 'Alice']\n",
    "\n",
    "    print('\\nUnit tests of the function find_community_by_decreasing_popularity : ok')\n",
    "test_find_community_by_decreasing_popularity()\n"
   ]
  },
  {
   "cell_type": "code",
   "execution_count": 59,
   "metadata": {},
   "outputs": [
    {
     "name": "stdout",
     "output_type": "stream",
     "text": [
      "['Bob', 'Dominique', 'Alice']\n",
      "\n",
      "Unit tests of the function test_find_community_from_person : ok\n"
     ]
    }
   ],
   "source": [
    "def find_community_from_person (network, people):\n",
    "    \"\"\"This function takes as parameter a network and a person, and returns a maximum community containing this person. \n",
    "    For this, we choose a person from the network, we create a community containing just this person, \n",
    "    we consider the friends of this person by decreasing order of popularity. For each of these people, \n",
    "    if this person is friends with all the members of the community already created, then we add him to the community.\"\"\"\n",
    "    person = people #stresses the person not to recall a function several times\n",
    "    \n",
    "    if person not in network : \n",
    "        return False #returns false if the person is not in the network\n",
    "    \n",
    "    #Put the person's friends in descending order \n",
    "  \n",
    "    friends = order_by_decreasing_popularity(network, network[person]) \n",
    "\n",
    "    #create the required community\n",
    "    \n",
    "    com = [person]\n",
    "    comm = find_community(network, friends)\n",
    "    i = 0 \n",
    "    while i < len(comm) : \n",
    "        com.append(comm[i])\n",
    "        i+=1\n",
    "    #i = 0\n",
    "    #while i < len(friends):\n",
    "    #    if all_his_friends(network, friends[i], com ) == True: #test if the person in the group is friends with the whole community\n",
    "     #       com.append(friends[i])\n",
    "      #  i += 1\n",
    "    return com\n",
    "\n",
    "print(find_community_from_person(network1, \"Bob\"))\n",
    "def test_find_community_from_person():\n",
    "    assert find_community_from_person(network1, \"Alice\")== ['Alice', 'Bob', 'Dominique']\n",
    "    assert find_community_from_person(network1, \"Bob\")== ['Bob', 'Dominique', 'Alice']\n",
    "    assert find_community_from_person(network1, \"Charlie\")== ['Charlie', 'Bob']\n",
    "\n",
    "    print('\\nUnit tests of the function test_find_community_from_person : ok')\n",
    "\n",
    "test_find_community_from_person()"
   ]
  },
  {
   "cell_type": "code",
   "execution_count": 60,
   "metadata": {},
   "outputs": [
    {
     "name": "stdout",
     "output_type": "stream",
     "text": [
      "['Bob', 'Dominique', 'Alice']\n",
      "\n",
      "Unit tests of the function test_find_max_community : ok\n"
     ]
    }
   ],
   "source": [
    "def find_max_community(network): \n",
    "    \"\"\"This function takes as parameter a network and applies the maximum community search heuristic given by \n",
    "    find_community_from_person for all persons in the network. The function should return the largest community found.\"\"\"\n",
    "   \n",
    "    pers = list(friends_number_of_people(network))[0] #Choose the most popular person on the network\n",
    "    return find_community_from_person(network, pers) \n",
    "\n",
    "print(find_max_community(network1))\n",
    "\n",
    "def test_find_max_community():\n",
    "    assert find_max_community(network1)== ['Bob', 'Dominique', 'Alice']\n",
    "    assert not find_max_community(network1)== ['Charlie', 'Dominique', 'Alice']\n",
    "\n",
    "    print('\\nUnit tests of the function test_find_max_community : ok')\n",
    "\n",
    "test_find_max_community()"
   ]
  }
 ],
 "metadata": {
  "kernelspec": {
   "display_name": "Python 3",
   "language": "python",
   "name": "python3"
  },
  "language_info": {
   "codemirror_mode": {
    "name": "ipython",
    "version": 3
   },
   "file_extension": ".py",
   "mimetype": "text/x-python",
   "name": "python",
   "nbconvert_exporter": "python",
   "pygments_lexer": "ipython3",
   "version": "3.10.9"
  },
  "vscode": {
   "interpreter": {
    "hash": "a083d02f103c5c268dd75f3403e3aa7b735042ca95b5b80db01e4ab67254fdbe"
   }
  }
 },
 "nbformat": 4,
 "nbformat_minor": 4
}
